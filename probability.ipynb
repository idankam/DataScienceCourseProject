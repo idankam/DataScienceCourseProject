{
 "cells": [
  {
   "cell_type": "markdown",
   "metadata": {},
   "source": [
    "# question 1A:\n",
    "\n",
    "- identical twins = 1/300\n",
    "- not identical twins = 1/125\n",
    "- twins = 1/300 + 1/125 = 17/1500\n",
    "\n",
    "answer: $$\\frac{1/300}{17/1500}=\\frac{5}{17}  $$"
   ]
  },
  {
   "cell_type": "markdown",
   "metadata": {},
   "source": [
    "# question 1B:\n",
    "\n",
    "- bowl 1:\n",
    " - 1/4 elmonds\n",
    " - 3/4 chocolate\n",
    "- bowl 2:\n",
    " - 1/2 elmonds\n",
    " - 1/2 chocolate\n",
    "\n",
    "answer: $$\\frac{0.5X0.75}{0.5X0.75 + 0.5X0.5}=\\frac{3}{5} = 0.6  $$"
   ]
  },
  {
   "cell_type": "markdown",
   "metadata": {},
   "source": [
    "# question 2:\n",
    "\n",
    "\n",
    "answer: $$\\frac{0.5X0.2 + 0.5X0.14}{0.5X0.2 + 0.5X0.14 + 0.5X0.1 + 0.5X0.2}  = \\frac{17}{32}$$"
   ]
  },
  {
   "cell_type": "markdown",
   "metadata": {},
   "source": [
    "# question 3:\n",
    "\n",
    "- A = ill\n",
    "- B - positive test\n",
    "- P(A) = 0.0001\n",
    "- P(B\\A) = 1\n",
    "- P(B) = 0.0001X1 + 0.9999X0.01 = 0.010099\n",
    "\n",
    "a. answer by bayes: $$\\frac{0.0001X1}{0.010099}=\\frac{100}{10099}=0.0099  $$\n",
    "\n",
    "- A = ill\n",
    "- B - positive test\n",
    "- P(A) = 0.005\n",
    "- P(B\\A) = 1\n",
    "- P(B) = 0.005X1 + 0.995X0.01 = 0.01495\n",
    "\n",
    "b. answer by bayes: $$\\frac{0.005X1}{0.01495}=\\frac{100}{299}=0.334  $$\n"
   ]
  },
  {
   "cell_type": "markdown",
   "metadata": {},
   "source": [
    "# question 1:\n",
    "\n",
    "- P(sum of 3, 6, 9, 12) = 2/36 + 5/36 + 4/36 + 1/36 = 12/36 = 1/3\n",
    "- -P(sum of 3, 6, 9, 12) = 24/36 = 2/3\n",
    "- twins = 1/300 + 1/125 = 17/1500\n",
    "\n",
    "answer: $$ Expected Value = E(X) = \\sum P(X)*X = 2/3*-3 + 1/3*6 = 0  $$"
   ]
  },
  {
   "cell_type": "markdown",
   "metadata": {},
   "source": [
    "# question 2:\n",
    "\n",
    "- total option = 25\n",
    "- P(X<12) = 15/25\n",
    "- P(X=12) = 4/25\n",
    "- P(12<X) = 6/25\n",
    "\n",
    "answer: $$ Expected Value = E(X) = \\sum P(X)*X = 15/25*-6 + 4/25*0 + 6/25*5 = -2.4  $$"
   ]
  },
  {
   "cell_type": "markdown",
   "metadata": {},
   "source": [
    "# question 3:\n",
    "\n",
    "- binomial random variable:\n",
    "- P(male) = 0.4\n",
    "- N = 8\n",
    "- mean = expected value E(x)\n",
    "- STD = squere root of N*P*(1-P)\n",
    "\n",
    "answer: $$ mean = E(X) = \\sum P(X)*X = 8*0.4 = 3.2  $$\n",
    " $$ STD = \\sqrt{8*0.4*0.6} = \\sqrt{1.92} = 1.386 $$"
   ]
  },
  {
   "cell_type": "markdown",
   "metadata": {},
   "source": [
    "# question 4:\n",
    "\n",
    "- in normal distribution, the area between the mean and 2 std is 48%.\n",
    "\n",
    "ans:\n",
    " $$ P(26<X<30) = 0.48 $$"
   ]
  },
  {
   "cell_type": "markdown",
   "metadata": {},
   "source": [
    "# question 5:\n",
    "\n",
    "- calculate the area of P(X>3)\n",
    "ans:\n",
    " $$ P(X>3) = \\frac{0.4*(5-3)}{2}=0.4 $$"
   ]
  },
  {
   "cell_type": "markdown",
   "metadata": {},
   "source": [
    "# question 6:\n",
    "\n",
    "- using bernoulli equation:\n",
    "\n",
    "ans:\n",
    " $$ 4C3*0.6^3*0.4^1 = 0.3456 $$"
   ]
  },
  {
   "cell_type": "markdown",
   "metadata": {},
   "source": [
    "# question 7:\n",
    "\n",
    "ans:\n",
    "answer: $$ Expected Value = E(X) = \\sum P(X)*X = 0.1*-10+0.35*-5+0.1*0+0.35*5+0.1*10 = 0  $$"
   ]
  },
  {
   "cell_type": "code",
   "execution_count": null,
   "metadata": {},
   "outputs": [],
   "source": []
  }
 ],
 "metadata": {
  "kernelspec": {
   "display_name": "Python 3",
   "language": "python",
   "name": "python3"
  },
  "language_info": {
   "codemirror_mode": {
    "name": "ipython",
    "version": 3
   },
   "file_extension": ".py",
   "mimetype": "text/x-python",
   "name": "python",
   "nbconvert_exporter": "python",
   "pygments_lexer": "ipython3",
   "version": "3.8.3"
  }
 },
 "nbformat": 4,
 "nbformat_minor": 4
}
