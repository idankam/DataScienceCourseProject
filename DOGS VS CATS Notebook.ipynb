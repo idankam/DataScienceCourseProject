{
 "cells": [
  {
   "cell_type": "code",
   "execution_count": 46,
   "metadata": {},
   "outputs": [],
   "source": [
    "import cv2                 # working with, mainly resizing, images\n",
    "import pandas as pd\n",
    "import numpy as np         # dealing with arrays\n",
    "import matplotlib.pyplot as plt\n",
    "import seaborn as sns\n",
    "import os                  # dealing with directories\n",
    "import random                # mixing up or currently ordered data that might lead our network astray in training.\n",
    "from tqdm import tqdm      # a nice pretty percentage bar for tasks. Thanks to viewer Daniel BA1/4hler for this suggestion\n",
    "\n",
    "%matplotlib inline\n",
    "\n",
    "from sklearn.decomposition import PCA\n",
    "from sklearn.pipeline import Pipeline\n",
    "from sklearn.cluster import KMeans\n",
    "from sklearn.ensemble import StackingClassifier\n",
    "from sklearn.ensemble import BaggingClassifier\n",
    "\n",
    "import xgboost\n",
    "from sklearn.svm import LinearSVC\n",
    "from sklearn.preprocessing import PolynomialFeatures\n",
    "from sklearn.ensemble import BaggingClassifier \n",
    "from sklearn.ensemble import AdaBoostClassifier\n",
    "from sklearn.neighbors import KNeighborsClassifier\n",
    "from sklearn.tree import DecisionTreeClassifier\n",
    "from sklearn.ensemble import RandomForestClassifier\n",
    "from sklearn.linear_model import LogisticRegression\n",
    "\n",
    "from sklearn import metrics\n",
    "\n",
    "from sklearn.model_selection import StratifiedShuffleSplit\n",
    "from sklearn.model_selection import cross_val_score\n",
    "from sklearn.model_selection import KFold\n",
    "from sklearn.model_selection import cross_val_predict\n",
    "from sklearn.model_selection import train_test_split\n",
    "from sklearn.model_selection import RandomizedSearchCV\n",
    "from sklearn.metrics import confusion_matrix\n",
    "\n",
    "from sklearn.preprocessing import StandardScaler\n",
    "from imblearn.over_sampling import SMOTE\n",
    "\n",
    "import matplotlib.pyplot as plt, matplotlib.image as mpimg"
   ]
  },
  {
   "cell_type": "code",
   "execution_count": 119,
   "metadata": {},
   "outputs": [],
   "source": [
    "DATA_DIR = r'C:\\Users\\idank\\CourseProject\\train'\n",
    "LR = 1e-3\n",
    "\n",
    "def label_img(img):\n",
    "    word_label = img.split('.')[-3]\n",
    "    # conversion to one-hot array [cat,dog]\n",
    "    #                            [much cat, no dog]\n",
    "    if word_label == 'cat': return [1,0]\n",
    "    #                             [no cat, very doggo]\n",
    "    elif word_label == 'dog': return [0,1]\n",
    "    \n",
    "def create_train_data(img_size, file_name, color = False):\n",
    "    data = []\n",
    "    for img in tqdm(os.listdir(DATA_DIR)):\n",
    "        label = label_img(img)\n",
    "        path = os.path.join(DATA_DIR,img)\n",
    "        if (color == False):\n",
    "            img = cv2.imread(path,cv2.IMREAD_GRAYSCALE)\n",
    "        else:\n",
    "            img = cv2.imread(path)\n",
    "        img = cv2.resize(img, (img_size,img_size))\n",
    "        data.append([np.array(img),np.array(label)])\n",
    "    random.Random(42).shuffle(data)\n",
    "    np.save(file_name, data)\n",
    "    return data\n",
    "# If you have already created the dataset:\n",
    "#train_data = np.load('file_name.npy')"
   ]
  },
  {
   "cell_type": "markdown",
   "metadata": {},
   "source": [
    "### I will make 2 sets of X data, 50 * 50 images and 100 * 100 images\n",
    "#### maybe there will be a different, I will check"
   ]
  },
  {
   "cell_type": "code",
   "execution_count": 3,
   "metadata": {},
   "outputs": [],
   "source": [
    "data_50 = np.load(r'train_data_50.npy', allow_pickle=True)"
   ]
  },
  {
   "cell_type": "code",
   "execution_count": 4,
   "metadata": {},
   "outputs": [],
   "source": [
    "data_100 = np.load(r'train_data_100.npy', allow_pickle=True)"
   ]
  },
  {
   "cell_type": "code",
   "execution_count": 5,
   "metadata": {},
   "outputs": [],
   "source": [
    "X_50_50 = np.array([i[0] for i in data_50]).reshape(25000,2500)\n",
    "X_100_100 = np.array([i[0] for i in data_100]).reshape(25000,10000)\n",
    "Y = pd.Series([i[1][0] for i in data_50]) # dog=0. cat=1\n",
    "\n",
    "# normalaize the data:\n",
    "X_100_100 = X_100_100/255.\n",
    "X_50_50 = X_50_50/255."
   ]
  },
  {
   "cell_type": "code",
   "execution_count": 6,
   "metadata": {},
   "outputs": [
    {
     "data": {
      "text/html": [
       "<div>\n",
       "<style scoped>\n",
       "    .dataframe tbody tr th:only-of-type {\n",
       "        vertical-align: middle;\n",
       "    }\n",
       "\n",
       "    .dataframe tbody tr th {\n",
       "        vertical-align: top;\n",
       "    }\n",
       "\n",
       "    .dataframe thead th {\n",
       "        text-align: right;\n",
       "    }\n",
       "</style>\n",
       "<table border=\"1\" class=\"dataframe\">\n",
       "  <thead>\n",
       "    <tr style=\"text-align: right;\">\n",
       "      <th></th>\n",
       "      <th>0</th>\n",
       "      <th>1</th>\n",
       "      <th>2</th>\n",
       "      <th>3</th>\n",
       "      <th>4</th>\n",
       "      <th>5</th>\n",
       "      <th>6</th>\n",
       "      <th>7</th>\n",
       "      <th>8</th>\n",
       "      <th>9</th>\n",
       "      <th>...</th>\n",
       "      <th>2490</th>\n",
       "      <th>2491</th>\n",
       "      <th>2492</th>\n",
       "      <th>2493</th>\n",
       "      <th>2494</th>\n",
       "      <th>2495</th>\n",
       "      <th>2496</th>\n",
       "      <th>2497</th>\n",
       "      <th>2498</th>\n",
       "      <th>2499</th>\n",
       "    </tr>\n",
       "  </thead>\n",
       "  <tbody>\n",
       "    <tr>\n",
       "      <th>0</th>\n",
       "      <td>0.823529</td>\n",
       "      <td>0.482353</td>\n",
       "      <td>0.490196</td>\n",
       "      <td>0.466667</td>\n",
       "      <td>0.521569</td>\n",
       "      <td>0.517647</td>\n",
       "      <td>0.517647</td>\n",
       "      <td>0.517647</td>\n",
       "      <td>0.560784</td>\n",
       "      <td>0.474510</td>\n",
       "      <td>...</td>\n",
       "      <td>0.270588</td>\n",
       "      <td>0.247059</td>\n",
       "      <td>0.152941</td>\n",
       "      <td>0.192157</td>\n",
       "      <td>0.168627</td>\n",
       "      <td>0.149020</td>\n",
       "      <td>0.184314</td>\n",
       "      <td>0.145098</td>\n",
       "      <td>0.247059</td>\n",
       "      <td>0.552941</td>\n",
       "    </tr>\n",
       "    <tr>\n",
       "      <th>1</th>\n",
       "      <td>0.482353</td>\n",
       "      <td>0.501961</td>\n",
       "      <td>0.498039</td>\n",
       "      <td>0.521569</td>\n",
       "      <td>0.513725</td>\n",
       "      <td>0.521569</td>\n",
       "      <td>0.552941</td>\n",
       "      <td>0.521569</td>\n",
       "      <td>0.498039</td>\n",
       "      <td>0.388235</td>\n",
       "      <td>...</td>\n",
       "      <td>0.525490</td>\n",
       "      <td>0.545098</td>\n",
       "      <td>0.576471</td>\n",
       "      <td>0.631373</td>\n",
       "      <td>0.619608</td>\n",
       "      <td>0.607843</td>\n",
       "      <td>0.615686</td>\n",
       "      <td>0.584314</td>\n",
       "      <td>0.572549</td>\n",
       "      <td>0.560784</td>\n",
       "    </tr>\n",
       "    <tr>\n",
       "      <th>2</th>\n",
       "      <td>0.635294</td>\n",
       "      <td>0.674510</td>\n",
       "      <td>0.760784</td>\n",
       "      <td>0.839216</td>\n",
       "      <td>0.886275</td>\n",
       "      <td>0.764706</td>\n",
       "      <td>0.729412</td>\n",
       "      <td>0.698039</td>\n",
       "      <td>0.709804</td>\n",
       "      <td>0.541176</td>\n",
       "      <td>...</td>\n",
       "      <td>0.596078</td>\n",
       "      <td>0.564706</td>\n",
       "      <td>0.517647</td>\n",
       "      <td>0.537255</td>\n",
       "      <td>0.466667</td>\n",
       "      <td>0.482353</td>\n",
       "      <td>0.521569</td>\n",
       "      <td>0.509804</td>\n",
       "      <td>0.419608</td>\n",
       "      <td>0.462745</td>\n",
       "    </tr>\n",
       "    <tr>\n",
       "      <th>3</th>\n",
       "      <td>0.372549</td>\n",
       "      <td>0.337255</td>\n",
       "      <td>0.345098</td>\n",
       "      <td>0.407843</td>\n",
       "      <td>0.431373</td>\n",
       "      <td>0.337255</td>\n",
       "      <td>0.364706</td>\n",
       "      <td>0.341176</td>\n",
       "      <td>0.333333</td>\n",
       "      <td>0.372549</td>\n",
       "      <td>...</td>\n",
       "      <td>0.850980</td>\n",
       "      <td>0.819608</td>\n",
       "      <td>0.796078</td>\n",
       "      <td>0.796078</td>\n",
       "      <td>0.772549</td>\n",
       "      <td>0.811765</td>\n",
       "      <td>0.768627</td>\n",
       "      <td>0.635294</td>\n",
       "      <td>0.776471</td>\n",
       "      <td>0.749020</td>\n",
       "    </tr>\n",
       "    <tr>\n",
       "      <th>4</th>\n",
       "      <td>0.003922</td>\n",
       "      <td>0.003922</td>\n",
       "      <td>0.003922</td>\n",
       "      <td>0.003922</td>\n",
       "      <td>0.003922</td>\n",
       "      <td>0.003922</td>\n",
       "      <td>0.003922</td>\n",
       "      <td>0.003922</td>\n",
       "      <td>0.003922</td>\n",
       "      <td>0.003922</td>\n",
       "      <td>...</td>\n",
       "      <td>0.164706</td>\n",
       "      <td>0.164706</td>\n",
       "      <td>0.168627</td>\n",
       "      <td>0.003922</td>\n",
       "      <td>0.003922</td>\n",
       "      <td>0.003922</td>\n",
       "      <td>0.003922</td>\n",
       "      <td>0.003922</td>\n",
       "      <td>0.003922</td>\n",
       "      <td>0.003922</td>\n",
       "    </tr>\n",
       "    <tr>\n",
       "      <th>...</th>\n",
       "      <td>...</td>\n",
       "      <td>...</td>\n",
       "      <td>...</td>\n",
       "      <td>...</td>\n",
       "      <td>...</td>\n",
       "      <td>...</td>\n",
       "      <td>...</td>\n",
       "      <td>...</td>\n",
       "      <td>...</td>\n",
       "      <td>...</td>\n",
       "      <td>...</td>\n",
       "      <td>...</td>\n",
       "      <td>...</td>\n",
       "      <td>...</td>\n",
       "      <td>...</td>\n",
       "      <td>...</td>\n",
       "      <td>...</td>\n",
       "      <td>...</td>\n",
       "      <td>...</td>\n",
       "      <td>...</td>\n",
       "      <td>...</td>\n",
       "    </tr>\n",
       "    <tr>\n",
       "      <th>24995</th>\n",
       "      <td>0.078431</td>\n",
       "      <td>0.070588</td>\n",
       "      <td>0.086275</td>\n",
       "      <td>0.082353</td>\n",
       "      <td>0.082353</td>\n",
       "      <td>0.078431</td>\n",
       "      <td>0.082353</td>\n",
       "      <td>0.082353</td>\n",
       "      <td>0.078431</td>\n",
       "      <td>0.078431</td>\n",
       "      <td>...</td>\n",
       "      <td>0.666667</td>\n",
       "      <td>0.647059</td>\n",
       "      <td>0.709804</td>\n",
       "      <td>0.741176</td>\n",
       "      <td>0.392157</td>\n",
       "      <td>0.760784</td>\n",
       "      <td>0.682353</td>\n",
       "      <td>0.556863</td>\n",
       "      <td>0.619608</td>\n",
       "      <td>0.560784</td>\n",
       "    </tr>\n",
       "    <tr>\n",
       "      <th>24996</th>\n",
       "      <td>0.654902</td>\n",
       "      <td>0.650980</td>\n",
       "      <td>0.654902</td>\n",
       "      <td>0.658824</td>\n",
       "      <td>0.666667</td>\n",
       "      <td>0.682353</td>\n",
       "      <td>0.682353</td>\n",
       "      <td>0.647059</td>\n",
       "      <td>0.682353</td>\n",
       "      <td>0.698039</td>\n",
       "      <td>...</td>\n",
       "      <td>0.776471</td>\n",
       "      <td>0.949020</td>\n",
       "      <td>0.360784</td>\n",
       "      <td>0.521569</td>\n",
       "      <td>0.478431</td>\n",
       "      <td>0.588235</td>\n",
       "      <td>0.552941</td>\n",
       "      <td>0.600000</td>\n",
       "      <td>0.564706</td>\n",
       "      <td>0.815686</td>\n",
       "    </tr>\n",
       "    <tr>\n",
       "      <th>24997</th>\n",
       "      <td>0.396078</td>\n",
       "      <td>0.486275</td>\n",
       "      <td>0.498039</td>\n",
       "      <td>0.545098</td>\n",
       "      <td>0.517647</td>\n",
       "      <td>0.576471</td>\n",
       "      <td>0.466667</td>\n",
       "      <td>0.572549</td>\n",
       "      <td>0.615686</td>\n",
       "      <td>0.458824</td>\n",
       "      <td>...</td>\n",
       "      <td>0.576471</td>\n",
       "      <td>0.525490</td>\n",
       "      <td>0.647059</td>\n",
       "      <td>0.501961</td>\n",
       "      <td>0.662745</td>\n",
       "      <td>0.592157</td>\n",
       "      <td>0.596078</td>\n",
       "      <td>0.584314</td>\n",
       "      <td>0.650980</td>\n",
       "      <td>0.501961</td>\n",
       "    </tr>\n",
       "    <tr>\n",
       "      <th>24998</th>\n",
       "      <td>0.600000</td>\n",
       "      <td>0.592157</td>\n",
       "      <td>0.572549</td>\n",
       "      <td>0.564706</td>\n",
       "      <td>0.556863</td>\n",
       "      <td>0.556863</td>\n",
       "      <td>0.537255</td>\n",
       "      <td>0.537255</td>\n",
       "      <td>0.533333</td>\n",
       "      <td>0.513725</td>\n",
       "      <td>...</td>\n",
       "      <td>0.992157</td>\n",
       "      <td>0.992157</td>\n",
       "      <td>0.992157</td>\n",
       "      <td>0.992157</td>\n",
       "      <td>0.992157</td>\n",
       "      <td>0.992157</td>\n",
       "      <td>0.992157</td>\n",
       "      <td>0.992157</td>\n",
       "      <td>0.992157</td>\n",
       "      <td>0.996078</td>\n",
       "    </tr>\n",
       "    <tr>\n",
       "      <th>24999</th>\n",
       "      <td>0.525490</td>\n",
       "      <td>0.474510</td>\n",
       "      <td>0.501961</td>\n",
       "      <td>0.419608</td>\n",
       "      <td>0.572549</td>\n",
       "      <td>0.592157</td>\n",
       "      <td>0.490196</td>\n",
       "      <td>0.470588</td>\n",
       "      <td>0.431373</td>\n",
       "      <td>0.556863</td>\n",
       "      <td>...</td>\n",
       "      <td>0.380392</td>\n",
       "      <td>0.427451</td>\n",
       "      <td>0.486275</td>\n",
       "      <td>0.517647</td>\n",
       "      <td>0.513725</td>\n",
       "      <td>0.501961</td>\n",
       "      <td>0.254902</td>\n",
       "      <td>0.447059</td>\n",
       "      <td>0.356863</td>\n",
       "      <td>0.278431</td>\n",
       "    </tr>\n",
       "  </tbody>\n",
       "</table>\n",
       "<p>25000 rows × 2500 columns</p>\n",
       "</div>"
      ],
      "text/plain": [
       "           0         1         2         3         4         5         6     \\\n",
       "0      0.823529  0.482353  0.490196  0.466667  0.521569  0.517647  0.517647   \n",
       "1      0.482353  0.501961  0.498039  0.521569  0.513725  0.521569  0.552941   \n",
       "2      0.635294  0.674510  0.760784  0.839216  0.886275  0.764706  0.729412   \n",
       "3      0.372549  0.337255  0.345098  0.407843  0.431373  0.337255  0.364706   \n",
       "4      0.003922  0.003922  0.003922  0.003922  0.003922  0.003922  0.003922   \n",
       "...         ...       ...       ...       ...       ...       ...       ...   \n",
       "24995  0.078431  0.070588  0.086275  0.082353  0.082353  0.078431  0.082353   \n",
       "24996  0.654902  0.650980  0.654902  0.658824  0.666667  0.682353  0.682353   \n",
       "24997  0.396078  0.486275  0.498039  0.545098  0.517647  0.576471  0.466667   \n",
       "24998  0.600000  0.592157  0.572549  0.564706  0.556863  0.556863  0.537255   \n",
       "24999  0.525490  0.474510  0.501961  0.419608  0.572549  0.592157  0.490196   \n",
       "\n",
       "           7         8         9     ...      2490      2491      2492  \\\n",
       "0      0.517647  0.560784  0.474510  ...  0.270588  0.247059  0.152941   \n",
       "1      0.521569  0.498039  0.388235  ...  0.525490  0.545098  0.576471   \n",
       "2      0.698039  0.709804  0.541176  ...  0.596078  0.564706  0.517647   \n",
       "3      0.341176  0.333333  0.372549  ...  0.850980  0.819608  0.796078   \n",
       "4      0.003922  0.003922  0.003922  ...  0.164706  0.164706  0.168627   \n",
       "...         ...       ...       ...  ...       ...       ...       ...   \n",
       "24995  0.082353  0.078431  0.078431  ...  0.666667  0.647059  0.709804   \n",
       "24996  0.647059  0.682353  0.698039  ...  0.776471  0.949020  0.360784   \n",
       "24997  0.572549  0.615686  0.458824  ...  0.576471  0.525490  0.647059   \n",
       "24998  0.537255  0.533333  0.513725  ...  0.992157  0.992157  0.992157   \n",
       "24999  0.470588  0.431373  0.556863  ...  0.380392  0.427451  0.486275   \n",
       "\n",
       "           2493      2494      2495      2496      2497      2498      2499  \n",
       "0      0.192157  0.168627  0.149020  0.184314  0.145098  0.247059  0.552941  \n",
       "1      0.631373  0.619608  0.607843  0.615686  0.584314  0.572549  0.560784  \n",
       "2      0.537255  0.466667  0.482353  0.521569  0.509804  0.419608  0.462745  \n",
       "3      0.796078  0.772549  0.811765  0.768627  0.635294  0.776471  0.749020  \n",
       "4      0.003922  0.003922  0.003922  0.003922  0.003922  0.003922  0.003922  \n",
       "...         ...       ...       ...       ...       ...       ...       ...  \n",
       "24995  0.741176  0.392157  0.760784  0.682353  0.556863  0.619608  0.560784  \n",
       "24996  0.521569  0.478431  0.588235  0.552941  0.600000  0.564706  0.815686  \n",
       "24997  0.501961  0.662745  0.592157  0.596078  0.584314  0.650980  0.501961  \n",
       "24998  0.992157  0.992157  0.992157  0.992157  0.992157  0.992157  0.996078  \n",
       "24999  0.517647  0.513725  0.501961  0.254902  0.447059  0.356863  0.278431  \n",
       "\n",
       "[25000 rows x 2500 columns]"
      ]
     },
     "execution_count": 6,
     "metadata": {},
     "output_type": "execute_result"
    }
   ],
   "source": [
    "pd.DataFrame(X_50_50)"
   ]
  },
  {
   "cell_type": "code",
   "execution_count": 7,
   "metadata": {},
   "outputs": [],
   "source": [
    "images_50_50 = pd.DataFrame(X_50_50)\n",
    "images_100_100 = pd.DataFrame(X_100_100)\n",
    "\n",
    "# this function plot image from the data\n",
    "def image_plot(images_set, Y_labels, image_number, size=50):\n",
    "    images = images_set.values\n",
    "    images = images.reshape(-1, size, size)\n",
    "    img = images[image_number]\n",
    "    plt.imshow(img,cmap='gray')\n",
    "    plt.title(\"class \" + str(Y_labels.iloc[image_number]))"
   ]
  },
  {
   "cell_type": "code",
   "execution_count": 10,
   "metadata": {},
   "outputs": [
    {
     "data": {
      "image/png": "[encoded data removed]",
      "text/plain": [
       "<Figure size 432x288 with 1 Axes>"
      ]
     },
     "metadata": {
      "needs_background": "light"
     },
     "output_type": "display_data"
    }
   ],
   "source": [
    "# 50*50 dog for example:\n",
    "image_plot(images_50_50, Y, 0)"
   ]
  },
  {
   "cell_type": "code",
   "execution_count": 12,
   "metadata": {},
   "outputs": [
    {
     "data": {
      "image/png": "[encoded data removed]",
      "text/plain": [
       "<Figure size 432x288 with 1 Axes>"
      ]
     },
     "metadata": {
      "needs_background": "light"
     },
     "output_type": "display_data"
    }
   ],
   "source": [
    "# 100*100 dog for example:\n",
    "image_plot(images_100_100, Y, 0, 100)"
   ]
  },
  {
   "cell_type": "code",
   "execution_count": 11,
   "metadata": {},
   "outputs": [
    {
     "data": {
      "image/png": "[encoded data removed]",
      "text/plain": [
       "<Figure size 432x288 with 1 Axes>"
      ]
     },
     "metadata": {
      "needs_background": "light"
     },
     "output_type": "display_data"
    }
   ],
   "source": [
    "# 50*50 cat for example:\n",
    "image_plot(images_50_50, Y, 5)"
   ]
  },
  {
   "cell_type": "code",
   "execution_count": 13,
   "metadata": {},
   "outputs": [
    {
     "data": {
      "image/png": "[encoded data removed]",
      "text/plain": [
       "<Figure size 432x288 with 1 Axes>"
      ]
     },
     "metadata": {
      "needs_background": "light"
     },
     "output_type": "display_data"
    }
   ],
   "source": [
    "# 100*100 cat for example:\n",
    "image_plot(images_100_100, Y, 5, 100)"
   ]
  },
  {
   "cell_type": "code",
   "execution_count": 8,
   "metadata": {},
   "outputs": [],
   "source": [
    "# this function will help me check running time for each algorithem\n",
    "\n",
    "from datetime import datetime\n",
    "\n",
    "def timer(start_time=None):\n",
    "    if not start_time:\n",
    "        start_time = datetime.now()\n",
    "        return start_time\n",
    "    elif start_time:\n",
    "        thour, temp_sec = divmod((datetime.now() - start_time).total_seconds(), 3600)\n",
    "        tmin, tsec = divmod(temp_sec, 60)\n",
    "        print('\\n Time taken: %i hours %i minutes and %s seconds.' % (thour, tmin, round(tsec, 2)))"
   ]
  },
  {
   "cell_type": "code",
   "execution_count": 9,
   "metadata": {},
   "outputs": [],
   "source": [
    "X_train, X_test, y_train, y_test = train_test_split(X_50_50, Y, test_size=0.15, random_state = 42)"
   ]
  },
  {
   "cell_type": "markdown",
   "metadata": {},
   "source": [
    "### PCA Dimensionality Reductioin\n",
    "- from 2500 features to 290\n",
    "- 90% of the information remains"
   ]
  },
  {
   "cell_type": "code",
   "execution_count": 140,
   "metadata": {},
   "outputs": [],
   "source": [
    "pca = PCA()\n",
    "pca.fit(X_train)\n",
    "cumsum = np.cumsum(pca.explained_variance_ratio_)"
   ]
  },
  {
   "cell_type": "code",
   "execution_count": 141,
   "metadata": {},
   "outputs": [
    {
     "data": {
      "text/plain": [
       "[<matplotlib.lines.Line2D at 0x1b2393ffd60>]"
      ]
     },
     "execution_count": 141,
     "metadata": {},
     "output_type": "execute_result"
    },
    {
     "data": {
      "image/png": "[encoded data removed]",
      "text/plain": [
       "<Figure size 432x288 with 1 Axes>"
      ]
     },
     "metadata": {
      "needs_background": "light"
     },
     "output_type": "display_data"
    }
   ],
   "source": [
    "# the elbow is around 0.9 explaind varince, so this is a good point to use.\n",
    "plt.plot(cumsum)"
   ]
  },
  {
   "cell_type": "code",
   "execution_count": 11,
   "metadata": {},
   "outputs": [],
   "source": [
    "pca = PCA(n_components= 0.9)\n",
    "pca.fit(X_train)\n",
    "X_train_pca = pca.transform(X_train)\n",
    "X_test_pca = pca.transform(X_test)"
   ]
  },
  {
   "cell_type": "code",
   "execution_count": 143,
   "metadata": {},
   "outputs": [
    {
     "name": "stdout",
     "output_type": "stream",
     "text": [
      "from 2500 features we have now only 290 features which remains 0.9 from the information (variance) of the original data!\n"
     ]
    }
   ],
   "source": [
    "print(\"from 2500 features we have now only \" + str(len(X_train_pca[0])) + \" features which remains 0.9 from the information (variance) of the original data!\")"
   ]
  },
  {
   "cell_type": "code",
   "execution_count": 25,
   "metadata": {},
   "outputs": [],
   "source": [
    "# for quick trained instead the hole train set\n",
    "X_sample = X_train_pca[:6000]\n",
    "y_sample = y_train[:6000]"
   ]
  },
  {
   "cell_type": "markdown",
   "metadata": {},
   "source": [
    "## function that will return the accuracy of trained model using cross validation:"
   ]
  },
  {
   "cell_type": "code",
   "execution_count": 36,
   "metadata": {},
   "outputs": [],
   "source": [
    "def cv_model_score(model, X=X_train_pca, Y=y_train, messege=True):\n",
    "    if (messege==True):\n",
    "        start_time = timer(None) # timing starts from this point for \"start_time\" variable\n",
    "    scores = cross_val_score(model, X, Y, cv=3, scoring='accuracy')\n",
    "    if (messege == True):\n",
    "        timer(start_time) # timing ends here for \"start_time\" variable\n",
    "        print(\"CV mean accuracy score is: \" + str(scores.mean()))\n",
    "    return scores.mean()"
   ]
  },
  {
   "cell_type": "markdown",
   "metadata": {},
   "source": [
    "### Rendom Forest with the train set before PCA:"
   ]
  },
  {
   "cell_type": "code",
   "execution_count": 21,
   "metadata": {},
   "outputs": [
    {
     "name": "stdout",
     "output_type": "stream",
     "text": [
      "\n",
      " Time taken: 0 hours 2 minutes and 55.41 seconds.\n",
      "CV mean accuracy score is: 0.6346351862069226\n"
     ]
    },
    {
     "data": {
      "text/plain": [
       "0.6346351862069226"
      ]
     },
     "execution_count": 21,
     "metadata": {},
     "output_type": "execute_result"
    }
   ],
   "source": [
    "RFC = RandomForestClassifier()\n",
    "\n",
    "cv_model_score(RFC, X_train, y_train)"
   ]
  },
  {
   "cell_type": "markdown",
   "metadata": {},
   "source": [
    "### Rendom Forest with the train set after PCA:"
   ]
  },
  {
   "cell_type": "code",
   "execution_count": 18,
   "metadata": {
    "scrolled": true
   },
   "outputs": [
    {
     "name": "stdout",
     "output_type": "stream",
     "text": [
      "\n",
      " Time taken: 0 hours 1 minutes and 21.41 seconds.\n",
      "CV mean accuracy score is: 0.5991057499261466\n"
     ]
    },
    {
     "data": {
      "text/plain": [
       "0.5991057499261466"
      ]
     },
     "execution_count": 18,
     "metadata": {},
     "output_type": "execute_result"
    }
   ],
   "source": [
    "RFC_pca = RandomForestClassifier()\n",
    "\n",
    "cv_model_score(RFC_pca)"
   ]
  },
  {
   "cell_type": "markdown",
   "metadata": {},
   "source": [
    "### Rendom Forest with the train set using kmeans (instead PCA):"
   ]
  },
  {
   "cell_type": "code",
   "execution_count": 17,
   "metadata": {},
   "outputs": [
    {
     "name": "stdout",
     "output_type": "stream",
     "text": [
      "\n",
      " Time taken: 0 hours 2 minutes and 12.42 seconds.\n",
      "CV mean accuracy score is: 0.5630584362836725\n"
     ]
    },
    {
     "data": {
      "text/plain": [
       "0.5630584362836725"
      ]
     },
     "execution_count": 17,
     "metadata": {},
     "output_type": "execute_result"
    }
   ],
   "source": [
    "RFC_kmeans = Pipeline([\n",
    "    (\"kmeans\", KMeans(n_clusters=10)), \n",
    "    (\"RFC\", RandomForestClassifier())\n",
    "])\n",
    "\n",
    "cv_model_score(RFC_kmeans, X_train, y_train)"
   ]
  },
  {
   "cell_type": "markdown",
   "metadata": {},
   "source": [
    "### XGBOOST with the train set before PCA:"
   ]
  },
  {
   "cell_type": "code",
   "execution_count": null,
   "metadata": {},
   "outputs": [],
   "source": [
    "xgb = xgboost.XGBClassifier(use_label_encoder=False)\n",
    "\n",
    "cv_model_score(xgb_pca, X_train, y_train)"
   ]
  },
  {
   "cell_type": "markdown",
   "metadata": {},
   "source": [
    "### XGBOOST with the train set after PCA:"
   ]
  },
  {
   "cell_type": "code",
   "execution_count": 22,
   "metadata": {
    "scrolled": true
   },
   "outputs": [
    {
     "name": "stdout",
     "output_type": "stream",
     "text": [
      "[17:28:26] WARNING: C:/Users/Administrator/workspace/xgboost-win64_release_1.4.0/src/learner.cc:1095: Starting in XGBoost 1.3.0, the default evaluation metric used with the objective 'binary:logistic' was changed from 'error' to 'logloss'. Explicitly set eval_metric if you'd like to restore the old behavior.\n",
      "[17:29:16] WARNING: C:/Users/Administrator/workspace/xgboost-win64_release_1.4.0/src/learner.cc:1095: Starting in XGBoost 1.3.0, the default evaluation metric used with the objective 'binary:logistic' was changed from 'error' to 'logloss'. Explicitly set eval_metric if you'd like to restore the old behavior.\n",
      "[17:30:12] WARNING: C:/Users/Administrator/workspace/xgboost-win64_release_1.4.0/src/learner.cc:1095: Starting in XGBoost 1.3.0, the default evaluation metric used with the objective 'binary:logistic' was changed from 'error' to 'logloss'. Explicitly set eval_metric if you'd like to restore the old behavior.\n",
      "\n",
      " Time taken: 0 hours 2 minutes and 41.21 seconds.\n",
      "CV mean accuracy score is: 0.6238118649035173\n"
     ]
    },
    {
     "data": {
      "text/plain": [
       "0.6238118649035173"
      ]
     },
     "execution_count": 22,
     "metadata": {},
     "output_type": "execute_result"
    }
   ],
   "source": [
    "xgb_pca = xgboost.XGBClassifier(use_label_encoder=False)\n",
    "\n",
    "cv_model_score(xgb_pca)"
   ]
  },
  {
   "cell_type": "markdown",
   "metadata": {},
   "source": [
    "### XGBOOST with the train set using kmeans (instead PCA):"
   ]
  },
  {
   "cell_type": "code",
   "execution_count": 19,
   "metadata": {},
   "outputs": [
    {
     "name": "stdout",
     "output_type": "stream",
     "text": [
      "[17:21:40] WARNING: C:/Users/Administrator/workspace/xgboost-win64_release_1.4.0/src/learner.cc:1095: Starting in XGBoost 1.3.0, the default evaluation metric used with the objective 'binary:logistic' was changed from 'error' to 'logloss'. Explicitly set eval_metric if you'd like to restore the old behavior.\n",
      "[17:22:35] WARNING: C:/Users/Administrator/workspace/xgboost-win64_release_1.4.0/src/learner.cc:1095: Starting in XGBoost 1.3.0, the default evaluation metric used with the objective 'binary:logistic' was changed from 'error' to 'logloss'. Explicitly set eval_metric if you'd like to restore the old behavior.\n",
      "[17:23:27] WARNING: C:/Users/Administrator/workspace/xgboost-win64_release_1.4.0/src/learner.cc:1095: Starting in XGBoost 1.3.0, the default evaluation metric used with the objective 'binary:logistic' was changed from 'error' to 'logloss'. Explicitly set eval_metric if you'd like to restore the old behavior.\n",
      "\n",
      " Time taken: 0 hours 2 minutes and 37.63 seconds.\n",
      "CV mean accuracy score is: 0.568093887648056\n"
     ]
    },
    {
     "data": {
      "text/plain": [
       "0.568093887648056"
      ]
     },
     "execution_count": 19,
     "metadata": {},
     "output_type": "execute_result"
    }
   ],
   "source": [
    "xgb_kmeans = Pipeline([\n",
    "    (\"kmeans\", KMeans(n_clusters=16)), \n",
    "    (\"xgboost\", xgboost.XGBClassifier(use_label_encoder=False))\n",
    "])\n",
    "\n",
    "cv_model_score(xgb_kmeans, X_train, y_train)"
   ]
  },
  {
   "cell_type": "markdown",
   "metadata": {},
   "source": [
    "### as we can see, the k-means models have a lower results. I will use from now just the PCA data for models."
   ]
  },
  {
   "cell_type": "markdown",
   "metadata": {},
   "source": [
    "#### find best learning rate for XGBOOST\n",
    "- check on a small sample\n",
    "- eta_values: 0.05, 0.1, 0.3, 0.5, 0.7, 1"
   ]
  },
  {
   "cell_type": "code",
   "execution_count": 23,
   "metadata": {},
   "outputs": [
    {
     "name": "stdout",
     "output_type": "stream",
     "text": [
      "[13:57:39] WARNING: C:/Users/Administrator/workspace/xgboost-win64_release_1.4.0/src/learner.cc:573: \n",
      "Parameters: { \"early_stopping_rounds\", \"eval_set\" } might not be used.\n",
      "\n",
      "  This may not be accurate due to some parameters are only used in language bindings but\n",
      "  passed down to XGBoost core.  Or some parameters are not used but slip through this\n",
      "  verification. Please open an issue if you find above cases.\n",
      "\n",
      "\n",
      "[13:57:40] WARNING: C:/Users/Administrator/workspace/xgboost-win64_release_1.4.0/src/learner.cc:1095: Starting in XGBoost 1.3.0, the default evaluation metric used with the objective 'binary:logistic' was changed from 'error' to 'logloss'. Explicitly set eval_metric if you'd like to restore the old behavior.\n",
      "[13:58:21] WARNING: C:/Users/Administrator/workspace/xgboost-win64_release_1.4.0/src/learner.cc:573: \n",
      "Parameters: { \"early_stopping_rounds\", \"eval_set\" } might not be used.\n",
      "\n",
      "  This may not be accurate due to some parameters are only used in language bindings but\n",
      "  passed down to XGBoost core.  Or some parameters are not used but slip through this\n",
      "  verification. Please open an issue if you find above cases.\n",
      "\n",
      "\n",
      "[13:58:22] WARNING: C:/Users/Administrator/workspace/xgboost-win64_release_1.4.0/src/learner.cc:1095: Starting in XGBoost 1.3.0, the default evaluation metric used with the objective 'binary:logistic' was changed from 'error' to 'logloss'. Explicitly set eval_metric if you'd like to restore the old behavior.\n",
      "[13:59:02] WARNING: C:/Users/Administrator/workspace/xgboost-win64_release_1.4.0/src/learner.cc:573: \n",
      "Parameters: { \"early_stopping_rounds\", \"eval_set\" } might not be used.\n",
      "\n",
      "  This may not be accurate due to some parameters are only used in language bindings but\n",
      "  passed down to XGBoost core.  Or some parameters are not used but slip through this\n",
      "  verification. Please open an issue if you find above cases.\n",
      "\n",
      "\n",
      "[13:59:03] WARNING: C:/Users/Administrator/workspace/xgboost-win64_release_1.4.0/src/learner.cc:1095: Starting in XGBoost 1.3.0, the default evaluation metric used with the objective 'binary:logistic' was changed from 'error' to 'logloss'. Explicitly set eval_metric if you'd like to restore the old behavior.\n",
      "[13:59:44] WARNING: C:/Users/Administrator/workspace/xgboost-win64_release_1.4.0/src/learner.cc:573: \n",
      "Parameters: { \"early_stopping_rounds\", \"eval_set\" } might not be used.\n",
      "\n",
      "  This may not be accurate due to some parameters are only used in language bindings but\n",
      "  passed down to XGBoost core.  Or some parameters are not used but slip through this\n",
      "  verification. Please open an issue if you find above cases.\n",
      "\n",
      "\n",
      "[13:59:44] WARNING: C:/Users/Administrator/workspace/xgboost-win64_release_1.4.0/src/learner.cc:1095: Starting in XGBoost 1.3.0, the default evaluation metric used with the objective 'binary:logistic' was changed from 'error' to 'logloss'. Explicitly set eval_metric if you'd like to restore the old behavior.\n",
      "[14:00:26] WARNING: C:/Users/Administrator/workspace/xgboost-win64_release_1.4.0/src/learner.cc:573: \n",
      "Parameters: { \"early_stopping_rounds\", \"eval_set\" } might not be used.\n",
      "\n",
      "  This may not be accurate due to some parameters are only used in language bindings but\n",
      "  passed down to XGBoost core.  Or some parameters are not used but slip through this\n",
      "  verification. Please open an issue if you find above cases.\n",
      "\n",
      "\n",
      "[14:00:26] WARNING: C:/Users/Administrator/workspace/xgboost-win64_release_1.4.0/src/learner.cc:1095: Starting in XGBoost 1.3.0, the default evaluation metric used with the objective 'binary:logistic' was changed from 'error' to 'logloss'. Explicitly set eval_metric if you'd like to restore the old behavior.\n",
      "[14:01:07] WARNING: C:/Users/Administrator/workspace/xgboost-win64_release_1.4.0/src/learner.cc:573: \n",
      "Parameters: { \"early_stopping_rounds\", \"eval_set\" } might not be used.\n",
      "\n",
      "  This may not be accurate due to some parameters are only used in language bindings but\n",
      "  passed down to XGBoost core.  Or some parameters are not used but slip through this\n",
      "  verification. Please open an issue if you find above cases.\n",
      "\n",
      "\n",
      "[14:01:08] WARNING: C:/Users/Administrator/workspace/xgboost-win64_release_1.4.0/src/learner.cc:1095: Starting in XGBoost 1.3.0, the default evaluation metric used with the objective 'binary:logistic' was changed from 'error' to 'logloss'. Explicitly set eval_metric if you'd like to restore the old behavior.\n",
      "[14:01:49] WARNING: C:/Users/Administrator/workspace/xgboost-win64_release_1.4.0/src/learner.cc:573: \n",
      "Parameters: { \"early_stopping_rounds\", \"eval_set\" } might not be used.\n",
      "\n",
      "  This may not be accurate due to some parameters are only used in language bindings but\n",
      "  passed down to XGBoost core.  Or some parameters are not used but slip through this\n",
      "  verification. Please open an issue if you find above cases.\n",
      "\n",
      "\n",
      "[14:01:49] WARNING: C:/Users/Administrator/workspace/xgboost-win64_release_1.4.0/src/learner.cc:1095: Starting in XGBoost 1.3.0, the default evaluation metric used with the objective 'binary:logistic' was changed from 'error' to 'logloss'. Explicitly set eval_metric if you'd like to restore the old behavior.\n",
      "[14:02:29] WARNING: C:/Users/Administrator/workspace/xgboost-win64_release_1.4.0/src/learner.cc:573: \n",
      "Parameters: { \"early_stopping_rounds\", \"eval_set\" } might not be used.\n",
      "\n",
      "  This may not be accurate due to some parameters are only used in language bindings but\n",
      "  passed down to XGBoost core.  Or some parameters are not used but slip through this\n",
      "  verification. Please open an issue if you find above cases.\n",
      "\n",
      "\n",
      "[14:02:29] WARNING: C:/Users/Administrator/workspace/xgboost-win64_release_1.4.0/src/learner.cc:1095: Starting in XGBoost 1.3.0, the default evaluation metric used with the objective 'binary:logistic' was changed from 'error' to 'logloss'. Explicitly set eval_metric if you'd like to restore the old behavior.\n",
      "[14:03:10] WARNING: C:/Users/Administrator/workspace/xgboost-win64_release_1.4.0/src/learner.cc:573: \n",
      "Parameters: { \"early_stopping_rounds\", \"eval_set\" } might not be used.\n",
      "\n",
      "  This may not be accurate due to some parameters are only used in language bindings but\n",
      "  passed down to XGBoost core.  Or some parameters are not used but slip through this\n",
      "  verification. Please open an issue if you find above cases.\n",
      "\n",
      "\n",
      "[14:03:10] WARNING: C:/Users/Administrator/workspace/xgboost-win64_release_1.4.0/src/learner.cc:1095: Starting in XGBoost 1.3.0, the default evaluation metric used with the objective 'binary:logistic' was changed from 'error' to 'logloss'. Explicitly set eval_metric if you'd like to restore the old behavior.\n",
      "[14:03:50] WARNING: C:/Users/Administrator/workspace/xgboost-win64_release_1.4.0/src/learner.cc:573: \n",
      "Parameters: { \"early_stopping_rounds\", \"eval_set\" } might not be used.\n",
      "\n",
      "  This may not be accurate due to some parameters are only used in language bindings but\n",
      "  passed down to XGBoost core.  Or some parameters are not used but slip through this\n",
      "  verification. Please open an issue if you find above cases.\n",
      "\n",
      "\n",
      "[14:03:50] WARNING: C:/Users/Administrator/workspace/xgboost-win64_release_1.4.0/src/learner.cc:1095: Starting in XGBoost 1.3.0, the default evaluation metric used with the objective 'binary:logistic' was changed from 'error' to 'logloss'. Explicitly set eval_metric if you'd like to restore the old behavior.\n",
      "[14:04:31] WARNING: C:/Users/Administrator/workspace/xgboost-win64_release_1.4.0/src/learner.cc:573: \n",
      "Parameters: { \"early_stopping_rounds\", \"eval_set\" } might not be used.\n",
      "\n",
      "  This may not be accurate due to some parameters are only used in language bindings but\n",
      "  passed down to XGBoost core.  Or some parameters are not used but slip through this\n",
      "  verification. Please open an issue if you find above cases.\n",
      "\n",
      "\n",
      "[14:04:32] WARNING: C:/Users/Administrator/workspace/xgboost-win64_release_1.4.0/src/learner.cc:1095: Starting in XGBoost 1.3.0, the default evaluation metric used with the objective 'binary:logistic' was changed from 'error' to 'logloss'. Explicitly set eval_metric if you'd like to restore the old behavior.\n",
      "[14:05:11] WARNING: C:/Users/Administrator/workspace/xgboost-win64_release_1.4.0/src/learner.cc:573: \n",
      "Parameters: { \"early_stopping_rounds\", \"eval_set\" } might not be used.\n",
      "\n",
      "  This may not be accurate due to some parameters are only used in language bindings but\n",
      "  passed down to XGBoost core.  Or some parameters are not used but slip through this\n",
      "  verification. Please open an issue if you find above cases.\n",
      "\n",
      "\n"
     ]
    },
    {
     "name": "stdout",
     "output_type": "stream",
     "text": [
      "[14:05:11] WARNING: C:/Users/Administrator/workspace/xgboost-win64_release_1.4.0/src/learner.cc:1095: Starting in XGBoost 1.3.0, the default evaluation metric used with the objective 'binary:logistic' was changed from 'error' to 'logloss'. Explicitly set eval_metric if you'd like to restore the old behavior.\n"
     ]
    }
   ],
   "source": [
    "X_test_sample =  X_train_pca[6001:8000]\n",
    "y_test_sample = y_train[6001:8000]\n",
    "eta_range =  [0.05, 0.1, 0.3, 0.5, 0.7, 1]\n",
    "eta_mean_scores = []\n",
    "\n",
    "for eta in eta_range:\n",
    "    xgb_eta_search = xgboost.XGBClassifier(eta=eta, eval_set=[(X_test_sample, y_test_sample)], early_stopping_rounds=10, use_label_encoder=False)\n",
    "    scores = cross_val_score(xgb_eta_search, X_sample, y_sample, cv=3, scoring='accuracy')\n",
    "    eta_mean_scores.append(scores.mean())"
   ]
  },
  {
   "cell_type": "code",
   "execution_count": 26,
   "metadata": {},
   "outputs": [
    {
     "data": {
      "text/plain": [
       "0.05    0.631859\n",
       "0.10    0.630212\n",
       "0.30    0.623624\n",
       "0.50    0.612518\n",
       "0.70    0.603859\n",
       "1.00    0.593459\n",
       "dtype: float64"
      ]
     },
     "execution_count": 26,
     "metadata": {},
     "output_type": "execute_result"
    }
   ],
   "source": [
    "pd.Series(eta_mean_scores, eta_range)"
   ]
  },
  {
   "cell_type": "markdown",
   "metadata": {},
   "source": [
    "- best eta for now: 0.05 \n",
    "- check again with low eta_values: 0.01, 0.03, 0.05"
   ]
  },
  {
   "cell_type": "code",
   "execution_count": 32,
   "metadata": {
    "scrolled": true
   },
   "outputs": [
    {
     "name": "stdout",
     "output_type": "stream",
     "text": [
      "[14:17:44] WARNING: C:/Users/Administrator/workspace/xgboost-win64_release_1.4.0/src/learner.cc:573: \n",
      "Parameters: { \"early_stopping_rounds\", \"eval_set\" } might not be used.\n",
      "\n",
      "  This may not be accurate due to some parameters are only used in language bindings but\n",
      "  passed down to XGBoost core.  Or some parameters are not used but slip through this\n",
      "  verification. Please open an issue if you find above cases.\n",
      "\n",
      "\n",
      "[14:17:44] WARNING: C:/Users/Administrator/workspace/xgboost-win64_release_1.4.0/src/learner.cc:1095: Starting in XGBoost 1.3.0, the default evaluation metric used with the objective 'binary:logistic' was changed from 'error' to 'logloss'. Explicitly set eval_metric if you'd like to restore the old behavior.\n",
      "[14:18:19] WARNING: C:/Users/Administrator/workspace/xgboost-win64_release_1.4.0/src/learner.cc:573: \n",
      "Parameters: { \"early_stopping_rounds\", \"eval_set\" } might not be used.\n",
      "\n",
      "  This may not be accurate due to some parameters are only used in language bindings but\n",
      "  passed down to XGBoost core.  Or some parameters are not used but slip through this\n",
      "  verification. Please open an issue if you find above cases.\n",
      "\n",
      "\n",
      "[14:18:19] WARNING: C:/Users/Administrator/workspace/xgboost-win64_release_1.4.0/src/learner.cc:1095: Starting in XGBoost 1.3.0, the default evaluation metric used with the objective 'binary:logistic' was changed from 'error' to 'logloss'. Explicitly set eval_metric if you'd like to restore the old behavior.\n",
      "[14:18:57] WARNING: C:/Users/Administrator/workspace/xgboost-win64_release_1.4.0/src/learner.cc:573: \n",
      "Parameters: { \"early_stopping_rounds\", \"eval_set\" } might not be used.\n",
      "\n",
      "  This may not be accurate due to some parameters are only used in language bindings but\n",
      "  passed down to XGBoost core.  Or some parameters are not used but slip through this\n",
      "  verification. Please open an issue if you find above cases.\n",
      "\n",
      "\n",
      "[14:18:57] WARNING: C:/Users/Administrator/workspace/xgboost-win64_release_1.4.0/src/learner.cc:1095: Starting in XGBoost 1.3.0, the default evaluation metric used with the objective 'binary:logistic' was changed from 'error' to 'logloss'. Explicitly set eval_metric if you'd like to restore the old behavior.\n",
      "[14:19:37] WARNING: C:/Users/Administrator/workspace/xgboost-win64_release_1.4.0/src/learner.cc:573: \n",
      "Parameters: { \"early_stopping_rounds\", \"eval_set\" } might not be used.\n",
      "\n",
      "  This may not be accurate due to some parameters are only used in language bindings but\n",
      "  passed down to XGBoost core.  Or some parameters are not used but slip through this\n",
      "  verification. Please open an issue if you find above cases.\n",
      "\n",
      "\n",
      "[14:19:38] WARNING: C:/Users/Administrator/workspace/xgboost-win64_release_1.4.0/src/learner.cc:1095: Starting in XGBoost 1.3.0, the default evaluation metric used with the objective 'binary:logistic' was changed from 'error' to 'logloss'. Explicitly set eval_metric if you'd like to restore the old behavior.\n",
      "[14:20:20] WARNING: C:/Users/Administrator/workspace/xgboost-win64_release_1.4.0/src/learner.cc:573: \n",
      "Parameters: { \"early_stopping_rounds\", \"eval_set\" } might not be used.\n",
      "\n",
      "  This may not be accurate due to some parameters are only used in language bindings but\n",
      "  passed down to XGBoost core.  Or some parameters are not used but slip through this\n",
      "  verification. Please open an issue if you find above cases.\n",
      "\n",
      "\n",
      "[14:20:21] WARNING: C:/Users/Administrator/workspace/xgboost-win64_release_1.4.0/src/learner.cc:1095: Starting in XGBoost 1.3.0, the default evaluation metric used with the objective 'binary:logistic' was changed from 'error' to 'logloss'. Explicitly set eval_metric if you'd like to restore the old behavior.\n",
      "[14:20:58] WARNING: C:/Users/Administrator/workspace/xgboost-win64_release_1.4.0/src/learner.cc:573: \n",
      "Parameters: { \"early_stopping_rounds\", \"eval_set\" } might not be used.\n",
      "\n",
      "  This may not be accurate due to some parameters are only used in language bindings but\n",
      "  passed down to XGBoost core.  Or some parameters are not used but slip through this\n",
      "  verification. Please open an issue if you find above cases.\n",
      "\n",
      "\n",
      "[14:20:59] WARNING: C:/Users/Administrator/workspace/xgboost-win64_release_1.4.0/src/learner.cc:1095: Starting in XGBoost 1.3.0, the default evaluation metric used with the objective 'binary:logistic' was changed from 'error' to 'logloss'. Explicitly set eval_metric if you'd like to restore the old behavior.\n"
     ]
    },
    {
     "data": {
      "text/plain": [
       "0.01    0.611906\n",
       "0.03    0.624282\n",
       "0.05    0.631859\n",
       "dtype: float64"
      ]
     },
     "execution_count": 32,
     "metadata": {},
     "output_type": "execute_result"
    }
   ],
   "source": [
    "X_test_sample =  X_train_pca[6001:8000]\n",
    "y_test_sample = y_train[6001:8000]\n",
    "eta_range =  [0.01, 0.03, 0.05]\n",
    "eta_mean_scores = []\n",
    "\n",
    "for eta in eta_range:\n",
    "    xgb_eta_search = xgboost.XGBClassifier(eta=eta, eval_set=[(X_test_sample, y_test_sample)], early_stopping_rounds=10, use_label_encoder=False)\n",
    "    scores = cross_val_score(xgb_eta_search, X_sample, y_sample, cv=3, scoring='accuracy')\n",
    "    eta_mean_scores.append(scores.mean())\n",
    "    \n",
    "pd.Series(eta_mean_scores, eta_range)"
   ]
  },
  {
   "cell_type": "code",
   "execution_count": 35,
   "metadata": {},
   "outputs": [
    {
     "data": {
      "text/plain": [
       "0.05"
      ]
     },
     "execution_count": 35,
     "metadata": {},
     "output_type": "execute_result"
    }
   ],
   "source": [
    "best_eta = eta_range[np.argmax(eta_mean_scores)]\n",
    "best_eta"
   ]
  },
  {
   "cell_type": "code",
   "execution_count": 43,
   "metadata": {},
   "outputs": [
    {
     "name": "stdout",
     "output_type": "stream",
     "text": [
      "[14:52:47] WARNING: C:/Users/Administrator/workspace/xgboost-win64_release_1.4.0/src/learner.cc:1095: Starting in XGBoost 1.3.0, the default evaluation metric used with the objective 'binary:logistic' was changed from 'error' to 'logloss'. Explicitly set eval_metric if you'd like to restore the old behavior.\n",
      "[14:53:35] WARNING: C:/Users/Administrator/workspace/xgboost-win64_release_1.4.0/src/learner.cc:1095: Starting in XGBoost 1.3.0, the default evaluation metric used with the objective 'binary:logistic' was changed from 'error' to 'logloss'. Explicitly set eval_metric if you'd like to restore the old behavior.\n",
      "[14:54:35] WARNING: C:/Users/Administrator/workspace/xgboost-win64_release_1.4.0/src/learner.cc:1095: Starting in XGBoost 1.3.0, the default evaluation metric used with the objective 'binary:logistic' was changed from 'error' to 'logloss'. Explicitly set eval_metric if you'd like to restore the old behavior.\n",
      "\n",
      " Time taken: 0 hours 2 minutes and 54.12 seconds.\n",
      "XGB CV mean accuracy score is: 0.6291762917916169\n"
     ]
    }
   ],
   "source": [
    "XGB_pca_best_eta = xgboost.XGBClassifier(use_label_encoder=False, eta=best_eta)\n",
    "\n",
    "cv_model_score(XGB_pca_best_eta)"
   ]
  },
  {
   "cell_type": "code",
   "execution_count": null,
   "metadata": {},
   "outputs": [],
   "source": []
  },
  {
   "cell_type": "markdown",
   "metadata": {},
   "source": [
    "#### Logistic Regression:"
   ]
  },
  {
   "cell_type": "code",
   "execution_count": 50,
   "metadata": {},
   "outputs": [
    {
     "name": "stdout",
     "output_type": "stream",
     "text": [
      "\n",
      " Time taken: 0 hours 0 minutes and 1.91 seconds.\n",
      "CV mean accuracy score is: 0.5593411191582564\n"
     ]
    },
    {
     "data": {
      "text/plain": [
       "0.5593411191582564"
      ]
     },
     "execution_count": 50,
     "metadata": {},
     "output_type": "execute_result"
    }
   ],
   "source": [
    "log_reg = LogisticRegression(random_state=15, max_iter=10000)\n",
    "\n",
    "cv_model_score(log_reg)"
   ]
  },
  {
   "cell_type": "markdown",
   "metadata": {},
   "source": [
    "#### linear svm:"
   ]
  },
  {
   "cell_type": "code",
   "execution_count": 53,
   "metadata": {},
   "outputs": [
    {
     "name": "stderr",
     "output_type": "stream",
     "text": [
      "C:\\Users\\idank\\anaconda3\\lib\\site-packages\\sklearn\\svm\\_base.py:976: ConvergenceWarning: Liblinear failed to converge, increase the number of iterations.\n",
      "  warnings.warn(\"Liblinear failed to converge, increase \"\n",
      "C:\\Users\\idank\\anaconda3\\lib\\site-packages\\sklearn\\svm\\_base.py:976: ConvergenceWarning: Liblinear failed to converge, increase the number of iterations.\n",
      "  warnings.warn(\"Liblinear failed to converge, increase \"\n"
     ]
    },
    {
     "name": "stdout",
     "output_type": "stream",
     "text": [
      "\n",
      " Time taken: 0 hours 1 minutes and 26.2 seconds.\n",
      "CV mean accuracy score is: 0.5614587529398866\n"
     ]
    },
    {
     "name": "stderr",
     "output_type": "stream",
     "text": [
      "C:\\Users\\idank\\anaconda3\\lib\\site-packages\\sklearn\\svm\\_base.py:976: ConvergenceWarning: Liblinear failed to converge, increase the number of iterations.\n",
      "  warnings.warn(\"Liblinear failed to converge, increase \"\n"
     ]
    },
    {
     "data": {
      "text/plain": [
       "0.5614587529398866"
      ]
     },
     "execution_count": 53,
     "metadata": {},
     "output_type": "execute_result"
    }
   ],
   "source": [
    "LSVC = LinearSVC(random_state=6, C=1, tol=1e-5, loss=\"hinge\", max_iter=100000)\n",
    "\n",
    "cv_model_score(LSVC)"
   ]
  },
  {
   "cell_type": "markdown",
   "metadata": {},
   "source": [
    "#### polynomial svm, degree of 2, kmeans instead of pca:"
   ]
  },
  {
   "cell_type": "code",
   "execution_count": 24,
   "metadata": {},
   "outputs": [
    {
     "name": "stderr",
     "output_type": "stream",
     "text": [
      "C:\\Users\\idank\\anaconda3\\lib\\site-packages\\sklearn\\svm\\_base.py:976: ConvergenceWarning: Liblinear failed to converge, increase the number of iterations.\n",
      "  warnings.warn(\"Liblinear failed to converge, increase \"\n",
      "C:\\Users\\idank\\anaconda3\\lib\\site-packages\\sklearn\\svm\\_base.py:976: ConvergenceWarning: Liblinear failed to converge, increase the number of iterations.\n",
      "  warnings.warn(\"Liblinear failed to converge, increase \"\n"
     ]
    },
    {
     "name": "stdout",
     "output_type": "stream",
     "text": [
      "\n",
      " Time taken: 0 hours 10 minutes and 57.15 seconds.\n",
      "CV mean accuracy score is: 0.5424955992880417\n"
     ]
    },
    {
     "name": "stderr",
     "output_type": "stream",
     "text": [
      "C:\\Users\\idank\\anaconda3\\lib\\site-packages\\sklearn\\svm\\_base.py:976: ConvergenceWarning: Liblinear failed to converge, increase the number of iterations.\n",
      "  warnings.warn(\"Liblinear failed to converge, increase \"\n"
     ]
    },
    {
     "data": {
      "text/plain": [
       "0.5424955992880417"
      ]
     },
     "execution_count": 24,
     "metadata": {},
     "output_type": "execute_result"
    }
   ],
   "source": [
    "polynomial_svm_2 = Pipeline([\n",
    "    (\"kmeans\", KMeans(n_clusters=12)),\n",
    "    (\"poly_features\", PolynomialFeatures(degree=2)),\n",
    "    (\"svm_clf\", LinearSVC(random_state=6, C=10, tol=1e-5, loss=\"hinge\", max_iter=30000))\n",
    "])\n",
    "\n",
    "cv_model_score(polynomial_svm_2, X_train, y_train)"
   ]
  },
  {
   "cell_type": "markdown",
   "metadata": {},
   "source": [
    "#### KNN:\n",
    "-high score so I will check for best K"
   ]
  },
  {
   "cell_type": "code",
   "execution_count": 55,
   "metadata": {},
   "outputs": [
    {
     "name": "stdout",
     "output_type": "stream",
     "text": [
      "\n",
      " Time taken: 0 hours 2 minutes and 40.49 seconds.\n",
      "CV mean accuracy score is: 0.600564602249592\n"
     ]
    },
    {
     "data": {
      "text/plain": [
       "0.600564602249592"
      ]
     },
     "execution_count": 55,
     "metadata": {},
     "output_type": "execute_result"
    }
   ],
   "source": [
    "knn = KNeighborsClassifier(n_neighbors=100)\n",
    "\n",
    "cv_model_score(knn)"
   ]
  },
  {
   "cell_type": "code",
   "execution_count": 37,
   "metadata": {},
   "outputs": [
    {
     "name": "stdout",
     "output_type": "stream",
     "text": [
      "best k for knn is around 45\n"
     ]
    },
    {
     "data": {
      "image/png": "[encoded data removed]",
      "text/plain": [
       "<Figure size 432x288 with 1 Axes>"
      ]
     },
     "metadata": {
      "needs_background": "light"
     },
     "output_type": "display_data"
    }
   ],
   "source": [
    "# try K=5 through K=180 and plot testing accuracy\n",
    "# **using only sample!**\n",
    "k_range = list(range(15, 180, 15))\n",
    "scores = []\n",
    "for k in k_range:\n",
    "    knn = KNeighborsClassifier(n_neighbors=k)\n",
    "    scores.append(cv_model_score(knn, X_sample, y_sample, messege=False))\n",
    "    \n",
    "plt.plot(k_range, scores)\n",
    "plt.xlabel('Value of K for KNN')\n",
    "plt.ylabel('Testing Accuracy')\n",
    "\n",
    "best_k = k_range[np.argmax(scores)]\n",
    "print(\"best k for knn is around \" + str(best_k))"
   ]
  },
  {
   "cell_type": "code",
   "execution_count": 38,
   "metadata": {},
   "outputs": [
    {
     "name": "stdout",
     "output_type": "stream",
     "text": [
      "best k for knn is around 75\n"
     ]
    },
    {
     "data": {
      "image/png": "[encoded data removed]",
      "text/plain": [
       "<Figure size 432x288 with 1 Axes>"
      ]
     },
     "metadata": {
      "needs_background": "light"
     },
     "output_type": "display_data"
    }
   ],
   "source": [
    "# try K=5 through K=180 and plot testing accuracy\n",
    "# **using all train data!** because of the drastic changes in the sample graph\n",
    "\n",
    "k_range = list(range(15, 270, 15))\n",
    "scores = []\n",
    "for k in k_range:\n",
    "    knn = KNeighborsClassifier(n_neighbors=k)\n",
    "    scores.append(cv_model_score(model=knn, messege=False))\n",
    "    \n",
    "plt.plot(k_range, scores)\n",
    "plt.xlabel('Value of K for KNN')\n",
    "plt.ylabel('Testing Accuracy')\n",
    "\n",
    "best_k = k_range[np.argmax(scores)]\n",
    "print(\"best k for knn is around \" + str(best_k))"
   ]
  },
  {
   "cell_type": "markdown",
   "metadata": {},
   "source": [
    "### Bagging models:"
   ]
  },
  {
   "cell_type": "code",
   "execution_count": 26,
   "metadata": {},
   "outputs": [
    {
     "name": "stdout",
     "output_type": "stream",
     "text": [
      "\n",
      " Time taken: 0 hours 0 minutes and 8.37 seconds.\n",
      "CV mean accuracy score is: 0.5323333333333333\n"
     ]
    },
    {
     "data": {
      "text/plain": [
       "0.5323333333333333"
      ]
     },
     "execution_count": 26,
     "metadata": {},
     "output_type": "execute_result"
    }
   ],
   "source": [
    "bag_log_reg = BaggingClassifier(\n",
    "    LogisticRegression(random_state=15, max_iter=10000), bootstrap=True)\n",
    "\n",
    "cv_model_score(bag_log_reg, X_sample, y_sample)"
   ]
  },
  {
   "cell_type": "code",
   "execution_count": 27,
   "metadata": {},
   "outputs": [
    {
     "name": "stdout",
     "output_type": "stream",
     "text": [
      "\n",
      " Time taken: 0 hours 11 minutes and 53.79 seconds.\n",
      "CV mean accuracy score is: 0.5273333333333333\n"
     ]
    },
    {
     "data": {
      "text/plain": [
       "0.5273333333333333"
      ]
     },
     "execution_count": 27,
     "metadata": {},
     "output_type": "execute_result"
    }
   ],
   "source": [
    "bag_svm = BaggingClassifier(\n",
    "    LinearSVC(random_state=6, C=1, tol=1e-3, loss=\"hinge\", max_iter=300000), bootstrap=True)\n",
    "\n",
    "cv_model_score(bag_svm, X_sample, y_sample)"
   ]
  },
  {
   "cell_type": "code",
   "execution_count": 28,
   "metadata": {},
   "outputs": [
    {
     "name": "stdout",
     "output_type": "stream",
     "text": [
      "\n",
      " Time taken: 0 hours 11 minutes and 59.11 seconds.\n",
      "CV mean accuracy score is: 0.5363333333333333\n"
     ]
    },
    {
     "data": {
      "text/plain": [
       "0.5363333333333333"
      ]
     },
     "execution_count": 28,
     "metadata": {},
     "output_type": "execute_result"
    }
   ],
   "source": [
    "bag_XGB = BaggingClassifier(\n",
    "    xgboost.XGBClassifier(use_label_encoder=False, eta=best_eta), bootstrap=True)\n",
    "\n",
    "cv_model_score(bag_svm, X_sample, y_sample)"
   ]
  },
  {
   "cell_type": "markdown",
   "metadata": {},
   "source": [
    "### Adaboost models:"
   ]
  },
  {
   "cell_type": "code",
   "execution_count": 29,
   "metadata": {},
   "outputs": [
    {
     "name": "stdout",
     "output_type": "stream",
     "text": [
      "\n",
      " Time taken: 0 hours 0 minutes and 19.09 seconds.\n",
      "CV mean accuracy score is: 0.5801666666666666\n"
     ]
    },
    {
     "data": {
      "text/plain": [
       "0.5801666666666666"
      ]
     },
     "execution_count": 29,
     "metadata": {},
     "output_type": "execute_result"
    }
   ],
   "source": [
    "ada_RFC = AdaBoostClassifier(RandomForestClassifier(), n_estimators=200, learning_rate=0.1)\n",
    "\n",
    "cv_model_score(ada_RFC, X_sample, y_sample)"
   ]
  },
  {
   "cell_type": "code",
   "execution_count": 39,
   "metadata": {},
   "outputs": [
    {
     "name": "stdout",
     "output_type": "stream",
     "text": [
      "\n",
      " Time taken: 0 hours 1 minutes and 17.79 seconds.\n",
      "CV mean accuracy score is: 0.6041883287615567\n"
     ]
    },
    {
     "data": {
      "text/plain": [
       "0.6041883287615567"
      ]
     },
     "execution_count": 39,
     "metadata": {},
     "output_type": "execute_result"
    }
   ],
   "source": [
    "ada_RFC = AdaBoostClassifier(RandomForestClassifier(), n_estimators=200, learning_rate=0.3)\n",
    "\n",
    "cv_model_score(ada_RFC)"
   ]
  },
  {
   "cell_type": "markdown",
   "metadata": {},
   "source": [
    "### Voting model:"
   ]
  },
  {
   "cell_type": "code",
   "execution_count": 45,
   "metadata": {},
   "outputs": [
    {
     "name": "stdout",
     "output_type": "stream",
     "text": [
      "[21:36:10] WARNING: C:/Users/Administrator/workspace/xgboost-win64_release_1.4.0/src/learner.cc:1095: Starting in XGBoost 1.3.0, the default evaluation metric used with the objective 'binary:logistic' was changed from 'error' to 'logloss'. Explicitly set eval_metric if you'd like to restore the old behavior.\n",
      "[21:39:53] WARNING: C:/Users/Administrator/workspace/xgboost-win64_release_1.4.0/src/learner.cc:1095: Starting in XGBoost 1.3.0, the default evaluation metric used with the objective 'binary:logistic' was changed from 'error' to 'logloss'. Explicitly set eval_metric if you'd like to restore the old behavior.\n",
      "[21:45:26] WARNING: C:/Users/Administrator/workspace/xgboost-win64_release_1.4.0/src/learner.cc:1095: Starting in XGBoost 1.3.0, the default evaluation metric used with the objective 'binary:logistic' was changed from 'error' to 'logloss'. Explicitly set eval_metric if you'd like to restore the old behavior.\n",
      "\n",
      " Time taken: 0 hours 13 minutes and 34.11 seconds.\n",
      "CV mean accuracy score is: 0.6238588727953956\n"
     ]
    },
    {
     "data": {
      "text/plain": [
       "0.6238588727953956"
      ]
     },
     "execution_count": 45,
     "metadata": {},
     "output_type": "execute_result"
    }
   ],
   "source": [
    "from sklearn.ensemble import VotingClassifier\n",
    "voting_clf = VotingClassifier(estimators=[('ada_RFC', ada_RFC), ('knn', KNeighborsClassifier(n_neighbors=best_k)), ('rfc', RFC_pca), ('xgb', xgboost.XGBClassifier(use_label_encoder=False, eta=best_eta))])\n",
    "cv_model_score(voting_clf)\n"
   ]
  },
  {
   "cell_type": "markdown",
   "metadata": {},
   "source": [
    "### Stacking models:"
   ]
  },
  {
   "cell_type": "code",
   "execution_count": 50,
   "metadata": {},
   "outputs": [
    {
     "name": "stdout",
     "output_type": "stream",
     "text": [
      "\n",
      " Time taken: 0 hours 31 minutes and 37.72 seconds.\n",
      "CV mean accuracy score is: 0.6084233638098065\n"
     ]
    },
    {
     "data": {
      "text/plain": [
       "0.6084233638098065"
      ]
     },
     "execution_count": 50,
     "metadata": {},
     "output_type": "execute_result"
    }
   ],
   "source": [
    "from sklearn.ensemble import StackingClassifier\n",
    "estimators = [('ada_RFC', ada_RFC), ('knn', KNeighborsClassifier(n_neighbors=best_k)), ('rfc', RFC_pca), ('xgb', xgboost.XGBClassifier(use_label_encoder=False, eta=best_eta, eval_metric='mlogloss'))]\n",
    "RFC_stacking = StackingClassifier(final_estimator=RandomForestClassifier(), estimators=estimators)\n",
    "cv_model_score(RFC_stacking)"
   ]
  },
  {
   "cell_type": "code",
   "execution_count": 51,
   "metadata": {},
   "outputs": [
    {
     "name": "stdout",
     "output_type": "stream",
     "text": [
      "\n",
      " Time taken: 0 hours 31 minutes and 46.0 seconds.\n",
      "CV mean accuracy score is: 0.6461174284775191\n"
     ]
    },
    {
     "data": {
      "text/plain": [
       "0.6461174284775191"
      ]
     },
     "execution_count": 51,
     "metadata": {},
     "output_type": "execute_result"
    }
   ],
   "source": [
    "\n",
    "estimators = [('ada_RFC', ada_RFC), ('knn', KNeighborsClassifier(n_neighbors=best_k)), ('rfc', RFC_pca), ('xgb', xgboost.XGBClassifier(use_label_encoder=False, eta=best_eta, eval_metric='mlogloss'))]\n",
    "RFC_stacking = StackingClassifier(final_estimator=LogisticRegression(max_iter=20000), estimators=estimators)\n",
    "cv_model_score(RFC_stacking)"
   ]
  },
  {
   "cell_type": "code",
   "execution_count": 51,
   "metadata": {},
   "outputs": [
    {
     "name": "stdout",
     "output_type": "stream",
     "text": [
      "\n",
      " Time taken: 0 hours 31 minutes and 46.0 seconds.\n",
      "CV mean accuracy score is: 0.6461174284775191\n"
     ]
    },
    {
     "data": {
      "text/plain": [
       "0.6461174284775191"
      ]
     },
     "execution_count": 51,
     "metadata": {},
     "output_type": "execute_result"
    }
   ],
   "source": [
    "from sklearn.ensemble import StackingClassifier\n",
    "estimators = [('ada_RFC', ada_RFC), ('knn', KNeighborsClassifier(n_neighbors=best_k)), ('rfc', RFC_pca), ('xgb', xgboost.XGBClassifier(use_label_encoder=False, eta=best_eta, eval_metric='mlogloss'))]\n",
    "RFC_stacking = StackingClassifier(final_estimator=LogisticRegression(max_iter=20000), estimators=estimators)\n",
    "cv_model_score(RFC_stacking)"
   ]
  },
  {
   "cell_type": "markdown",
   "metadata": {},
   "source": [
    "# Stacing model training in sklearn is very slow, so I made my own version of STACKING!"
   ]
  },
  {
   "cell_type": "code",
   "execution_count": 58,
   "metadata": {},
   "outputs": [],
   "source": [
    "X_step1 = X_train_pca[:15000]\n",
    "X_step2 = X_train_pca[15000:]\n",
    "\n",
    "Y_step1 = y_train[:15000]\n",
    "Y_step2 = y_train[15000:]\n",
    "\n",
    "ada_RFC.fit(X_step1, Y_step1)\n",
    "knn = KNeighborsClassifier(n_neighbors=best_k).fit(X_step1, Y_step1)\n",
    "RFC_pca.fit(X_step1, Y_step1)\n",
    "xgb = xgboost.XGBClassifier(use_label_encoder=False, eta=best_eta, eval_metric='mlogloss').fit(X_step1, Y_step1)\n",
    "\n",
    "ada_RFC_predict = ada_RFC.predict(X_step2)\n",
    "knn_predict = knn.predict(X_step2)\n",
    "RFC_predict = RFC_pca.predict(X_step2)\n",
    "xgb_predict = xgb.predict(X_step2)\n",
    "\n",
    "ada_RFC_predict_prob = ada_RFC.predict_proba(X_step2)\n",
    "knn_predict_prob = knn.predict_proba(X_step2)\n",
    "RFC_predict_prob = RFC_pca.predict_proba(X_step2)\n",
    "xgb_predict_prob = xgb.predict_proba(X_step2)"
   ]
  },
  {
   "cell_type": "code",
   "execution_count": 72,
   "metadata": {},
   "outputs": [],
   "source": [
    "x1 = np.array([i[0] for i in ada_RFC_predict_prob])\n",
    "x2 = np.array([i[0] for i in knn_predict_prob])\n",
    "x3 = np.array([i[0] for i in RFC_predict_prob])\n",
    "x4 = np.array([i[0] for i in xgb_predict_prob])"
   ]
  },
  {
   "cell_type": "code",
   "execution_count": 97,
   "metadata": {},
   "outputs": [
    {
     "data": {
      "text/html": [
       "<div>\n",
       "<style scoped>\n",
       "    .dataframe tbody tr th:only-of-type {\n",
       "        vertical-align: middle;\n",
       "    }\n",
       "\n",
       "    .dataframe tbody tr th {\n",
       "        vertical-align: top;\n",
       "    }\n",
       "\n",
       "    .dataframe thead th {\n",
       "        text-align: right;\n",
       "    }\n",
       "</style>\n",
       "<table border=\"1\" class=\"dataframe\">\n",
       "  <thead>\n",
       "    <tr style=\"text-align: right;\">\n",
       "      <th></th>\n",
       "      <th>x1</th>\n",
       "      <th>x2</th>\n",
       "      <th>x3</th>\n",
       "      <th>x4</th>\n",
       "      <th>label</th>\n",
       "    </tr>\n",
       "  </thead>\n",
       "  <tbody>\n",
       "    <tr>\n",
       "      <th>11357</th>\n",
       "      <td>1</td>\n",
       "      <td>0</td>\n",
       "      <td>1</td>\n",
       "      <td>0</td>\n",
       "      <td>1</td>\n",
       "    </tr>\n",
       "    <tr>\n",
       "      <th>19401</th>\n",
       "      <td>0</td>\n",
       "      <td>1</td>\n",
       "      <td>1</td>\n",
       "      <td>0</td>\n",
       "      <td>0</td>\n",
       "    </tr>\n",
       "    <tr>\n",
       "      <th>13668</th>\n",
       "      <td>1</td>\n",
       "      <td>1</td>\n",
       "      <td>0</td>\n",
       "      <td>1</td>\n",
       "      <td>0</td>\n",
       "    </tr>\n",
       "    <tr>\n",
       "      <th>14645</th>\n",
       "      <td>0</td>\n",
       "      <td>1</td>\n",
       "      <td>1</td>\n",
       "      <td>1</td>\n",
       "      <td>1</td>\n",
       "    </tr>\n",
       "    <tr>\n",
       "      <th>15706</th>\n",
       "      <td>1</td>\n",
       "      <td>0</td>\n",
       "      <td>0</td>\n",
       "      <td>0</td>\n",
       "      <td>0</td>\n",
       "    </tr>\n",
       "    <tr>\n",
       "      <th>...</th>\n",
       "      <td>...</td>\n",
       "      <td>...</td>\n",
       "      <td>...</td>\n",
       "      <td>...</td>\n",
       "      <td>...</td>\n",
       "    </tr>\n",
       "    <tr>\n",
       "      <th>21575</th>\n",
       "      <td>1</td>\n",
       "      <td>1</td>\n",
       "      <td>0</td>\n",
       "      <td>0</td>\n",
       "      <td>0</td>\n",
       "    </tr>\n",
       "    <tr>\n",
       "      <th>5390</th>\n",
       "      <td>1</td>\n",
       "      <td>0</td>\n",
       "      <td>1</td>\n",
       "      <td>0</td>\n",
       "      <td>0</td>\n",
       "    </tr>\n",
       "    <tr>\n",
       "      <th>860</th>\n",
       "      <td>1</td>\n",
       "      <td>0</td>\n",
       "      <td>1</td>\n",
       "      <td>1</td>\n",
       "      <td>1</td>\n",
       "    </tr>\n",
       "    <tr>\n",
       "      <th>15795</th>\n",
       "      <td>0</td>\n",
       "      <td>0</td>\n",
       "      <td>1</td>\n",
       "      <td>0</td>\n",
       "      <td>0</td>\n",
       "    </tr>\n",
       "    <tr>\n",
       "      <th>23654</th>\n",
       "      <td>0</td>\n",
       "      <td>1</td>\n",
       "      <td>0</td>\n",
       "      <td>0</td>\n",
       "      <td>1</td>\n",
       "    </tr>\n",
       "  </tbody>\n",
       "</table>\n",
       "<p>6250 rows × 5 columns</p>\n",
       "</div>"
      ],
      "text/plain": [
       "       x1  x2  x3  x4  label\n",
       "11357   1   0   1   0      1\n",
       "19401   0   1   1   0      0\n",
       "13668   1   1   0   1      0\n",
       "14645   0   1   1   1      1\n",
       "15706   1   0   0   0      0\n",
       "...    ..  ..  ..  ..    ...\n",
       "21575   1   1   0   0      0\n",
       "5390    1   0   1   0      0\n",
       "860     1   0   1   1      1\n",
       "15795   0   0   1   0      0\n",
       "23654   0   1   0   0      1\n",
       "\n",
       "[6250 rows x 5 columns]"
      ]
     },
     "execution_count": 97,
     "metadata": {},
     "output_type": "execute_result"
    }
   ],
   "source": [
    "predicts = pd.DataFrame({'x1': ada_RFC_predict,'x2': knn_predict,'x3': RFC_predict,'x4': xgb_predict, 'label': Y_step2})\n",
    "X_step2_train_predicts = predicts.drop(columns=['label'])\n",
    "predicts"
   ]
  },
  {
   "cell_type": "code",
   "execution_count": 79,
   "metadata": {},
   "outputs": [
    {
     "data": {
      "text/html": [
       "<div>\n",
       "<style scoped>\n",
       "    .dataframe tbody tr th:only-of-type {\n",
       "        vertical-align: middle;\n",
       "    }\n",
       "\n",
       "    .dataframe tbody tr th {\n",
       "        vertical-align: top;\n",
       "    }\n",
       "\n",
       "    .dataframe thead th {\n",
       "        text-align: right;\n",
       "    }\n",
       "</style>\n",
       "<table border=\"1\" class=\"dataframe\">\n",
       "  <thead>\n",
       "    <tr style=\"text-align: right;\">\n",
       "      <th></th>\n",
       "      <th>x1</th>\n",
       "      <th>x2</th>\n",
       "      <th>x3</th>\n",
       "      <th>x4</th>\n",
       "      <th>label</th>\n",
       "    </tr>\n",
       "  </thead>\n",
       "  <tbody>\n",
       "    <tr>\n",
       "      <th>11357</th>\n",
       "      <td>0.38</td>\n",
       "      <td>0.640000</td>\n",
       "      <td>0.42</td>\n",
       "      <td>0.506005</td>\n",
       "      <td>1</td>\n",
       "    </tr>\n",
       "    <tr>\n",
       "      <th>19401</th>\n",
       "      <td>0.55</td>\n",
       "      <td>0.493333</td>\n",
       "      <td>0.44</td>\n",
       "      <td>0.555139</td>\n",
       "      <td>0</td>\n",
       "    </tr>\n",
       "    <tr>\n",
       "      <th>13668</th>\n",
       "      <td>0.47</td>\n",
       "      <td>0.453333</td>\n",
       "      <td>0.55</td>\n",
       "      <td>0.420189</td>\n",
       "      <td>0</td>\n",
       "    </tr>\n",
       "    <tr>\n",
       "      <th>14645</th>\n",
       "      <td>0.56</td>\n",
       "      <td>0.413333</td>\n",
       "      <td>0.45</td>\n",
       "      <td>0.457630</td>\n",
       "      <td>1</td>\n",
       "    </tr>\n",
       "    <tr>\n",
       "      <th>15706</th>\n",
       "      <td>0.49</td>\n",
       "      <td>0.706667</td>\n",
       "      <td>0.60</td>\n",
       "      <td>0.683840</td>\n",
       "      <td>0</td>\n",
       "    </tr>\n",
       "    <tr>\n",
       "      <th>...</th>\n",
       "      <td>...</td>\n",
       "      <td>...</td>\n",
       "      <td>...</td>\n",
       "      <td>...</td>\n",
       "      <td>...</td>\n",
       "    </tr>\n",
       "    <tr>\n",
       "      <th>21575</th>\n",
       "      <td>0.47</td>\n",
       "      <td>0.466667</td>\n",
       "      <td>0.51</td>\n",
       "      <td>0.563564</td>\n",
       "      <td>0</td>\n",
       "    </tr>\n",
       "    <tr>\n",
       "      <th>5390</th>\n",
       "      <td>0.47</td>\n",
       "      <td>0.560000</td>\n",
       "      <td>0.49</td>\n",
       "      <td>0.550673</td>\n",
       "      <td>0</td>\n",
       "    </tr>\n",
       "    <tr>\n",
       "      <th>860</th>\n",
       "      <td>0.40</td>\n",
       "      <td>0.560000</td>\n",
       "      <td>0.36</td>\n",
       "      <td>0.458295</td>\n",
       "      <td>1</td>\n",
       "    </tr>\n",
       "    <tr>\n",
       "      <th>15795</th>\n",
       "      <td>0.56</td>\n",
       "      <td>0.560000</td>\n",
       "      <td>0.46</td>\n",
       "      <td>0.577659</td>\n",
       "      <td>0</td>\n",
       "    </tr>\n",
       "    <tr>\n",
       "      <th>23654</th>\n",
       "      <td>0.50</td>\n",
       "      <td>0.320000</td>\n",
       "      <td>0.56</td>\n",
       "      <td>0.607963</td>\n",
       "      <td>1</td>\n",
       "    </tr>\n",
       "  </tbody>\n",
       "</table>\n",
       "<p>6250 rows × 5 columns</p>\n",
       "</div>"
      ],
      "text/plain": [
       "         x1        x2    x3        x4  label\n",
       "11357  0.38  0.640000  0.42  0.506005      1\n",
       "19401  0.55  0.493333  0.44  0.555139      0\n",
       "13668  0.47  0.453333  0.55  0.420189      0\n",
       "14645  0.56  0.413333  0.45  0.457630      1\n",
       "15706  0.49  0.706667  0.60  0.683840      0\n",
       "...     ...       ...   ...       ...    ...\n",
       "21575  0.47  0.466667  0.51  0.563564      0\n",
       "5390   0.47  0.560000  0.49  0.550673      0\n",
       "860    0.40  0.560000  0.36  0.458295      1\n",
       "15795  0.56  0.560000  0.46  0.577659      0\n",
       "23654  0.50  0.320000  0.56  0.607963      1\n",
       "\n",
       "[6250 rows x 5 columns]"
      ]
     },
     "execution_count": 79,
     "metadata": {},
     "output_type": "execute_result"
    }
   ],
   "source": [
    "predicts_prob = pd.DataFrame({'x1': x1,'x2': x2,'x3': x3,'x4': x4, 'label': Y_step2})\n",
    "X_step2_train = predicts_prob.drop(columns=['label'])\n",
    "Y_step2_train = predicts_prob['label']\n",
    "predicts_prob"
   ]
  },
  {
   "cell_type": "markdown",
   "metadata": {},
   "source": [
    "### stacking models with the final predicts of the estimators:"
   ]
  },
  {
   "cell_type": "code",
   "execution_count": 101,
   "metadata": {},
   "outputs": [
    {
     "name": "stdout",
     "output_type": "stream",
     "text": [
      "\n",
      " Time taken: 0 hours 0 minutes and 0.03 seconds.\n",
      "CV mean accuracy score is: 0.640962054888475\n"
     ]
    },
    {
     "data": {
      "text/plain": [
       "0.640962054888475"
      ]
     },
     "execution_count": 101,
     "metadata": {},
     "output_type": "execute_result"
    }
   ],
   "source": [
    "stacking_log_reg = LogisticRegression(max_iter=20000)\n",
    "cv_model_score(stacking_log_reg, X_step2_train_predicts, Y_step2_train)"
   ]
  },
  {
   "cell_type": "code",
   "execution_count": 112,
   "metadata": {},
   "outputs": [
    {
     "name": "stdout",
     "output_type": "stream",
     "text": [
      "\n",
      " Time taken: 0 hours 0 minutes and 0.1 seconds.\n",
      "CV mean accuracy score is: 0.640962054888475\n"
     ]
    },
    {
     "data": {
      "text/plain": [
       "0.640962054888475"
      ]
     },
     "execution_count": 112,
     "metadata": {},
     "output_type": "execute_result"
    }
   ],
   "source": [
    "stacking_svm = LinearSVC(max_iter=30000)\n",
    "cv_model_score(stacking_svm, X_step2_train_predicts, Y_step2_train)"
   ]
  },
  {
   "cell_type": "markdown",
   "metadata": {},
   "source": [
    "### stacking models with the probabilities predicts of the estimators:"
   ]
  },
  {
   "cell_type": "code",
   "execution_count": 95,
   "metadata": {},
   "outputs": [
    {
     "name": "stdout",
     "output_type": "stream",
     "text": [
      "\n",
      " Time taken: 0 hours 0 minutes and 0.08 seconds.\n",
      "CV mean accuracy score is: 0.6470420296038153\n"
     ]
    },
    {
     "data": {
      "text/plain": [
       "0.6470420296038153"
      ]
     },
     "execution_count": 95,
     "metadata": {},
     "output_type": "execute_result"
    }
   ],
   "source": [
    "stacking_svm = LinearSVC(max_iter=30000)\n",
    "cv_model_score(stacking_svm, X_step2_train, Y_step2_train)"
   ]
  },
  {
   "cell_type": "code",
   "execution_count": 86,
   "metadata": {},
   "outputs": [
    {
     "name": "stdout",
     "output_type": "stream",
     "text": [
      "\n",
      " Time taken: 0 hours 0 minutes and 0.1 seconds.\n",
      "CV mean accuracy score is: 0.6468819272120008\n"
     ]
    },
    {
     "data": {
      "text/plain": [
       "0.6468819272120008"
      ]
     },
     "execution_count": 86,
     "metadata": {},
     "output_type": "execute_result"
    }
   ],
   "source": [
    "stacking_log_reg = LogisticRegression(max_iter=20000)\n",
    "cv_model_score(stacking_log_reg, X_step2_train, Y_step2_train)"
   ]
  },
  {
   "cell_type": "code",
   "execution_count": 96,
   "metadata": {},
   "outputs": [
    {
     "name": "stdout",
     "output_type": "stream",
     "text": [
      "\n",
      " Time taken: 0 hours 0 minutes and 0.58 seconds.\n",
      "CV mean accuracy score is: 0.634722208144474\n"
     ]
    },
    {
     "data": {
      "text/plain": [
       "0.634722208144474"
      ]
     },
     "execution_count": 96,
     "metadata": {},
     "output_type": "execute_result"
    }
   ],
   "source": [
    "stacking_adaboost = AdaBoostClassifier()\n",
    "cv_model_score(stacking_adaboost, X_step2_train, Y_step2_train)"
   ]
  },
  {
   "cell_type": "code",
   "execution_count": 94,
   "metadata": {},
   "outputs": [
    {
     "name": "stderr",
     "output_type": "stream",
     "text": [
      "C:\\Users\\idank\\anaconda3\\lib\\site-packages\\xgboost\\data.py:112: UserWarning: Use subset (sliced data) of np.ndarray is not recommended because it will generate extra copies and increase memory consumption\n",
      "  warnings.warn(\n"
     ]
    },
    {
     "name": "stdout",
     "output_type": "stream",
     "text": [
      "\n",
      " Time taken: 0 hours 0 minutes and 1.37 seconds.\n",
      "CV mean accuracy score is: 0.6222410556898317\n"
     ]
    },
    {
     "data": {
      "text/plain": [
       "0.6222410556898317"
      ]
     },
     "execution_count": 94,
     "metadata": {},
     "output_type": "execute_result"
    }
   ],
   "source": [
    "stacking_xgb = xgboost.XGBClassifier(use_label_encoder=False, eta=0.1, eval_metric='mlogloss')\n",
    "cv_model_score(stacking_xgb, X_step2_train, Y_step2_train)"
   ]
  },
  {
   "cell_type": "code",
   "execution_count": 93,
   "metadata": {},
   "outputs": [
    {
     "name": "stdout",
     "output_type": "stream",
     "text": [
      "\n",
      " Time taken: 0 hours 0 minutes and 1.93 seconds.\n",
      "CV mean accuracy score is: 0.6116805176352208\n"
     ]
    },
    {
     "data": {
      "text/plain": [
       "0.6116805176352208"
      ]
     },
     "execution_count": 93,
     "metadata": {},
     "output_type": "execute_result"
    }
   ],
   "source": [
    "stacking_RF = RandomForestClassifier()\n",
    "cv_model_score(stacking_RF, X_step2_train, Y_step2_train)"
   ]
  },
  {
   "cell_type": "markdown",
   "metadata": {},
   "source": [
    "# linear SVC stacking with probabilities is my best model. I will test it with the data test:"
   ]
  },
  {
   "cell_type": "code",
   "execution_count": 116,
   "metadata": {},
   "outputs": [
    {
     "data": {
      "text/plain": [
       "0.6493333333333333"
      ]
     },
     "execution_count": 116,
     "metadata": {},
     "output_type": "execute_result"
    }
   ],
   "source": [
    "# fit the final model\n",
    "\n",
    "stacking_svm = LinearSVC(max_iter=30000)\n",
    "stacking_svm.fit(X_step2_train, Y_step2_train)\n",
    "\n",
    "# prepare the final test set\n",
    "\n",
    "ada_RFC_predict_prob = ada_RFC.predict_proba(X_test_pca)\n",
    "knn_predict_prob = knn.predict_proba(X_test_pca)\n",
    "RFC_predict_prob = RFC_pca.predict_proba(X_test_pca)\n",
    "xgb_predict_prob = xgb.predict_proba(X_test_pca)\n",
    "\n",
    "x1 = np.array([i[0] for i in ada_RFC_predict_prob])\n",
    "x2 = np.array([i[0] for i in knn_predict_prob])\n",
    "x3 = np.array([i[0] for i in RFC_predict_prob])\n",
    "x4 = np.array([i[0] for i in xgb_predict_prob])\n",
    "\n",
    "X_test_predicts_prob = pd.DataFrame({'x1': x1,'x2': x2,'x3': x3,'x4': x4})\n",
    "\n",
    "y_predict = stacking_svm.predict(X_test_predicts_prob)\n",
    "metrics.accuracy_score(y_predict, y_test)"
   ]
  },
  {
   "cell_type": "code",
   "execution_count": 154,
   "metadata": {},
   "outputs": [
    {
     "data": {
      "image/png": "[encoded data removed]",
      "text/plain": [
       "<Figure size 648x648 with 2 Axes>"
      ]
     },
     "metadata": {
      "needs_background": "light"
     },
     "output_type": "display_data"
    }
   ],
   "source": [
    "y_pred_series = pd.Series(y_predict, index = y_test.index)\n",
    "\n",
    "cm = confusion_matrix(y_test, y_pred_series)\n",
    "plt.figure(figsize=(9,9))\n",
    "plt.imshow(cm, interpolation='nearest', cmap='Oranges')\n",
    "plt.title('Confusion matrix ', size = 15)\n",
    "plt.colorbar()\n",
    "tick_marks = np.arange(2)\n",
    "plt.xticks(tick_marks, ['dog', 'cat'], rotation=45, size = 20)\n",
    "plt.yticks(tick_marks, ['dog', 'cat'], size = 20)\n",
    "plt.tight_layout()\n",
    "plt.ylabel('Actual label', size = 15)\n",
    "plt.xlabel('Predicted label', size = 15)\n",
    "width, height = cm.shape\n",
    "for x in range(width):\n",
    "    for y in range(height):\n",
    "        plt.annotate(str(cm[x][y]), xy=(y, x), \n",
    "        horizontalalignment='center',\n",
    "        verticalalignment='center')"
   ]
  },
  {
   "cell_type": "code",
   "execution_count": null,
   "metadata": {},
   "outputs": [],
   "source": []
  },
  {
   "cell_type": "markdown",
   "metadata": {},
   "source": [
    "# I will check if there is difference between greyed images and colored images!"
   ]
  },
  {
   "cell_type": "markdown",
   "metadata": {},
   "source": [
    "## Same process with colored img (data)"
   ]
  },
  {
   "cell_type": "code",
   "execution_count": 120,
   "metadata": {},
   "outputs": [
    {
     "name": "stderr",
     "output_type": "stream",
     "text": [
      "100%|███████████████████████████████████████████████████████████████████████████| 25000/25000 [01:35<00:00, 262.18it/s]\n"
     ]
    }
   ],
   "source": [
    "data_50_color = create_train_data(img_size=50, file_name=\"train_data_50\", color=True)"
   ]
  },
  {
   "cell_type": "code",
   "execution_count": 137,
   "metadata": {},
   "outputs": [],
   "source": [
    "X_50_50 = np.array([i[0] for i in data_50_color]).reshape(25000,7500)\n",
    "\n",
    "# normalaize the data:\n",
    "X_50_50 = X_50_50/255."
   ]
  },
  {
   "cell_type": "code",
   "execution_count": 138,
   "metadata": {},
   "outputs": [
    {
     "data": {
      "text/html": [
       "<div>\n",
       "<style scoped>\n",
       "    .dataframe tbody tr th:only-of-type {\n",
       "        vertical-align: middle;\n",
       "    }\n",
       "\n",
       "    .dataframe tbody tr th {\n",
       "        vertical-align: top;\n",
       "    }\n",
       "\n",
       "    .dataframe thead th {\n",
       "        text-align: right;\n",
       "    }\n",
       "</style>\n",
       "<table border=\"1\" class=\"dataframe\">\n",
       "  <thead>\n",
       "    <tr style=\"text-align: right;\">\n",
       "      <th></th>\n",
       "      <th>0</th>\n",
       "      <th>1</th>\n",
       "      <th>2</th>\n",
       "      <th>3</th>\n",
       "      <th>4</th>\n",
       "      <th>5</th>\n",
       "      <th>6</th>\n",
       "      <th>7</th>\n",
       "      <th>8</th>\n",
       "      <th>9</th>\n",
       "      <th>...</th>\n",
       "      <th>7490</th>\n",
       "      <th>7491</th>\n",
       "      <th>7492</th>\n",
       "      <th>7493</th>\n",
       "      <th>7494</th>\n",
       "      <th>7495</th>\n",
       "      <th>7496</th>\n",
       "      <th>7497</th>\n",
       "      <th>7498</th>\n",
       "      <th>7499</th>\n",
       "    </tr>\n",
       "  </thead>\n",
       "  <tbody>\n",
       "    <tr>\n",
       "      <th>0</th>\n",
       "      <td>0.717647</td>\n",
       "      <td>0.839216</td>\n",
       "      <td>0.831373</td>\n",
       "      <td>0.360784</td>\n",
       "      <td>0.352941</td>\n",
       "      <td>0.776471</td>\n",
       "      <td>0.349020</td>\n",
       "      <td>0.364706</td>\n",
       "      <td>0.792157</td>\n",
       "      <td>0.321569</td>\n",
       "      <td>...</td>\n",
       "      <td>0.207843</td>\n",
       "      <td>0.145098</td>\n",
       "      <td>0.133333</td>\n",
       "      <td>0.168627</td>\n",
       "      <td>0.164706</td>\n",
       "      <td>0.235294</td>\n",
       "      <td>0.298039</td>\n",
       "      <td>0.458824</td>\n",
       "      <td>0.541176</td>\n",
       "      <td>0.623529</td>\n",
       "    </tr>\n",
       "    <tr>\n",
       "      <th>1</th>\n",
       "      <td>0.423529</td>\n",
       "      <td>0.454902</td>\n",
       "      <td>0.560784</td>\n",
       "      <td>0.435294</td>\n",
       "      <td>0.474510</td>\n",
       "      <td>0.580392</td>\n",
       "      <td>0.427451</td>\n",
       "      <td>0.478431</td>\n",
       "      <td>0.568627</td>\n",
       "      <td>0.439216</td>\n",
       "      <td>...</td>\n",
       "      <td>0.654902</td>\n",
       "      <td>0.541176</td>\n",
       "      <td>0.572549</td>\n",
       "      <td>0.627451</td>\n",
       "      <td>0.525490</td>\n",
       "      <td>0.552941</td>\n",
       "      <td>0.615686</td>\n",
       "      <td>0.517647</td>\n",
       "      <td>0.545098</td>\n",
       "      <td>0.611765</td>\n",
       "    </tr>\n",
       "    <tr>\n",
       "      <th>2</th>\n",
       "      <td>0.572549</td>\n",
       "      <td>0.647059</td>\n",
       "      <td>0.635294</td>\n",
       "      <td>0.611765</td>\n",
       "      <td>0.686275</td>\n",
       "      <td>0.674510</td>\n",
       "      <td>0.694118</td>\n",
       "      <td>0.768627</td>\n",
       "      <td>0.764706</td>\n",
       "      <td>0.792157</td>\n",
       "      <td>...</td>\n",
       "      <td>0.545098</td>\n",
       "      <td>0.435294</td>\n",
       "      <td>0.513725</td>\n",
       "      <td>0.533333</td>\n",
       "      <td>0.360784</td>\n",
       "      <td>0.423529</td>\n",
       "      <td>0.435294</td>\n",
       "      <td>0.400000</td>\n",
       "      <td>0.466667</td>\n",
       "      <td>0.478431</td>\n",
       "    </tr>\n",
       "    <tr>\n",
       "      <th>3</th>\n",
       "      <td>0.149020</td>\n",
       "      <td>0.317647</td>\n",
       "      <td>0.564706</td>\n",
       "      <td>0.137255</td>\n",
       "      <td>0.278431</td>\n",
       "      <td>0.529412</td>\n",
       "      <td>0.121569</td>\n",
       "      <td>0.282353</td>\n",
       "      <td>0.552941</td>\n",
       "      <td>0.184314</td>\n",
       "      <td>...</td>\n",
       "      <td>0.835294</td>\n",
       "      <td>0.501961</td>\n",
       "      <td>0.623529</td>\n",
       "      <td>0.705882</td>\n",
       "      <td>0.639216</td>\n",
       "      <td>0.772549</td>\n",
       "      <td>0.835294</td>\n",
       "      <td>0.611765</td>\n",
       "      <td>0.745098</td>\n",
       "      <td>0.807843</td>\n",
       "    </tr>\n",
       "    <tr>\n",
       "      <th>4</th>\n",
       "      <td>0.003922</td>\n",
       "      <td>0.003922</td>\n",
       "      <td>0.003922</td>\n",
       "      <td>0.003922</td>\n",
       "      <td>0.003922</td>\n",
       "      <td>0.003922</td>\n",
       "      <td>0.003922</td>\n",
       "      <td>0.003922</td>\n",
       "      <td>0.003922</td>\n",
       "      <td>0.003922</td>\n",
       "      <td>...</td>\n",
       "      <td>0.003922</td>\n",
       "      <td>0.003922</td>\n",
       "      <td>0.003922</td>\n",
       "      <td>0.003922</td>\n",
       "      <td>0.003922</td>\n",
       "      <td>0.003922</td>\n",
       "      <td>0.003922</td>\n",
       "      <td>0.003922</td>\n",
       "      <td>0.003922</td>\n",
       "      <td>0.003922</td>\n",
       "    </tr>\n",
       "    <tr>\n",
       "      <th>...</th>\n",
       "      <td>...</td>\n",
       "      <td>...</td>\n",
       "      <td>...</td>\n",
       "      <td>...</td>\n",
       "      <td>...</td>\n",
       "      <td>...</td>\n",
       "      <td>...</td>\n",
       "      <td>...</td>\n",
       "      <td>...</td>\n",
       "      <td>...</td>\n",
       "      <td>...</td>\n",
       "      <td>...</td>\n",
       "      <td>...</td>\n",
       "      <td>...</td>\n",
       "      <td>...</td>\n",
       "      <td>...</td>\n",
       "      <td>...</td>\n",
       "      <td>...</td>\n",
       "      <td>...</td>\n",
       "      <td>...</td>\n",
       "      <td>...</td>\n",
       "    </tr>\n",
       "    <tr>\n",
       "      <th>24995</th>\n",
       "      <td>0.070588</td>\n",
       "      <td>0.070588</td>\n",
       "      <td>0.094118</td>\n",
       "      <td>0.062745</td>\n",
       "      <td>0.062745</td>\n",
       "      <td>0.086275</td>\n",
       "      <td>0.078431</td>\n",
       "      <td>0.078431</td>\n",
       "      <td>0.101961</td>\n",
       "      <td>0.078431</td>\n",
       "      <td>...</td>\n",
       "      <td>0.658824</td>\n",
       "      <td>0.576471</td>\n",
       "      <td>0.568627</td>\n",
       "      <td>0.525490</td>\n",
       "      <td>0.627451</td>\n",
       "      <td>0.631373</td>\n",
       "      <td>0.596078</td>\n",
       "      <td>0.576471</td>\n",
       "      <td>0.564706</td>\n",
       "      <td>0.541176</td>\n",
       "    </tr>\n",
       "    <tr>\n",
       "      <th>24996</th>\n",
       "      <td>0.662745</td>\n",
       "      <td>0.654902</td>\n",
       "      <td>0.650980</td>\n",
       "      <td>0.658824</td>\n",
       "      <td>0.650980</td>\n",
       "      <td>0.647059</td>\n",
       "      <td>0.662745</td>\n",
       "      <td>0.654902</td>\n",
       "      <td>0.650980</td>\n",
       "      <td>0.666667</td>\n",
       "      <td>...</td>\n",
       "      <td>0.513725</td>\n",
       "      <td>0.705882</td>\n",
       "      <td>0.611765</td>\n",
       "      <td>0.545098</td>\n",
       "      <td>0.549020</td>\n",
       "      <td>0.552941</td>\n",
       "      <td>0.600000</td>\n",
       "      <td>0.678431</td>\n",
       "      <td>0.764706</td>\n",
       "      <td>0.964706</td>\n",
       "    </tr>\n",
       "    <tr>\n",
       "      <th>24997</th>\n",
       "      <td>0.223529</td>\n",
       "      <td>0.376471</td>\n",
       "      <td>0.505882</td>\n",
       "      <td>0.313725</td>\n",
       "      <td>0.462745</td>\n",
       "      <td>0.596078</td>\n",
       "      <td>0.329412</td>\n",
       "      <td>0.474510</td>\n",
       "      <td>0.607843</td>\n",
       "      <td>0.364706</td>\n",
       "      <td>...</td>\n",
       "      <td>0.709804</td>\n",
       "      <td>0.403922</td>\n",
       "      <td>0.564706</td>\n",
       "      <td>0.698039</td>\n",
       "      <td>0.470588</td>\n",
       "      <td>0.627451</td>\n",
       "      <td>0.764706</td>\n",
       "      <td>0.313725</td>\n",
       "      <td>0.474510</td>\n",
       "      <td>0.615686</td>\n",
       "    </tr>\n",
       "    <tr>\n",
       "      <th>24998</th>\n",
       "      <td>0.482353</td>\n",
       "      <td>0.619608</td>\n",
       "      <td>0.603922</td>\n",
       "      <td>0.474510</td>\n",
       "      <td>0.611765</td>\n",
       "      <td>0.596078</td>\n",
       "      <td>0.454902</td>\n",
       "      <td>0.588235</td>\n",
       "      <td>0.588235</td>\n",
       "      <td>0.439216</td>\n",
       "      <td>...</td>\n",
       "      <td>0.992157</td>\n",
       "      <td>0.984314</td>\n",
       "      <td>0.992157</td>\n",
       "      <td>0.992157</td>\n",
       "      <td>0.984314</td>\n",
       "      <td>0.992157</td>\n",
       "      <td>0.992157</td>\n",
       "      <td>0.988235</td>\n",
       "      <td>0.996078</td>\n",
       "      <td>0.996078</td>\n",
       "    </tr>\n",
       "    <tr>\n",
       "      <th>24999</th>\n",
       "      <td>0.509804</td>\n",
       "      <td>0.529412</td>\n",
       "      <td>0.525490</td>\n",
       "      <td>0.458824</td>\n",
       "      <td>0.478431</td>\n",
       "      <td>0.474510</td>\n",
       "      <td>0.486275</td>\n",
       "      <td>0.505882</td>\n",
       "      <td>0.501961</td>\n",
       "      <td>0.411765</td>\n",
       "      <td>...</td>\n",
       "      <td>0.254902</td>\n",
       "      <td>0.435294</td>\n",
       "      <td>0.431373</td>\n",
       "      <td>0.478431</td>\n",
       "      <td>0.325490</td>\n",
       "      <td>0.333333</td>\n",
       "      <td>0.419608</td>\n",
       "      <td>0.290196</td>\n",
       "      <td>0.286275</td>\n",
       "      <td>0.258824</td>\n",
       "    </tr>\n",
       "  </tbody>\n",
       "</table>\n",
       "<p>25000 rows × 7500 columns</p>\n",
       "</div>"
      ],
      "text/plain": [
       "           0         1         2         3         4         5         6     \\\n",
       "0      0.717647  0.839216  0.831373  0.360784  0.352941  0.776471  0.349020   \n",
       "1      0.423529  0.454902  0.560784  0.435294  0.474510  0.580392  0.427451   \n",
       "2      0.572549  0.647059  0.635294  0.611765  0.686275  0.674510  0.694118   \n",
       "3      0.149020  0.317647  0.564706  0.137255  0.278431  0.529412  0.121569   \n",
       "4      0.003922  0.003922  0.003922  0.003922  0.003922  0.003922  0.003922   \n",
       "...         ...       ...       ...       ...       ...       ...       ...   \n",
       "24995  0.070588  0.070588  0.094118  0.062745  0.062745  0.086275  0.078431   \n",
       "24996  0.662745  0.654902  0.650980  0.658824  0.650980  0.647059  0.662745   \n",
       "24997  0.223529  0.376471  0.505882  0.313725  0.462745  0.596078  0.329412   \n",
       "24998  0.482353  0.619608  0.603922  0.474510  0.611765  0.596078  0.454902   \n",
       "24999  0.509804  0.529412  0.525490  0.458824  0.478431  0.474510  0.486275   \n",
       "\n",
       "           7         8         9     ...      7490      7491      7492  \\\n",
       "0      0.364706  0.792157  0.321569  ...  0.207843  0.145098  0.133333   \n",
       "1      0.478431  0.568627  0.439216  ...  0.654902  0.541176  0.572549   \n",
       "2      0.768627  0.764706  0.792157  ...  0.545098  0.435294  0.513725   \n",
       "3      0.282353  0.552941  0.184314  ...  0.835294  0.501961  0.623529   \n",
       "4      0.003922  0.003922  0.003922  ...  0.003922  0.003922  0.003922   \n",
       "...         ...       ...       ...  ...       ...       ...       ...   \n",
       "24995  0.078431  0.101961  0.078431  ...  0.658824  0.576471  0.568627   \n",
       "24996  0.654902  0.650980  0.666667  ...  0.513725  0.705882  0.611765   \n",
       "24997  0.474510  0.607843  0.364706  ...  0.709804  0.403922  0.564706   \n",
       "24998  0.588235  0.588235  0.439216  ...  0.992157  0.984314  0.992157   \n",
       "24999  0.505882  0.501961  0.411765  ...  0.254902  0.435294  0.431373   \n",
       "\n",
       "           7493      7494      7495      7496      7497      7498      7499  \n",
       "0      0.168627  0.164706  0.235294  0.298039  0.458824  0.541176  0.623529  \n",
       "1      0.627451  0.525490  0.552941  0.615686  0.517647  0.545098  0.611765  \n",
       "2      0.533333  0.360784  0.423529  0.435294  0.400000  0.466667  0.478431  \n",
       "3      0.705882  0.639216  0.772549  0.835294  0.611765  0.745098  0.807843  \n",
       "4      0.003922  0.003922  0.003922  0.003922  0.003922  0.003922  0.003922  \n",
       "...         ...       ...       ...       ...       ...       ...       ...  \n",
       "24995  0.525490  0.627451  0.631373  0.596078  0.576471  0.564706  0.541176  \n",
       "24996  0.545098  0.549020  0.552941  0.600000  0.678431  0.764706  0.964706  \n",
       "24997  0.698039  0.470588  0.627451  0.764706  0.313725  0.474510  0.615686  \n",
       "24998  0.992157  0.984314  0.992157  0.992157  0.988235  0.996078  0.996078  \n",
       "24999  0.478431  0.325490  0.333333  0.419608  0.290196  0.286275  0.258824  \n",
       "\n",
       "[25000 rows x 7500 columns]"
      ]
     },
     "execution_count": 138,
     "metadata": {},
     "output_type": "execute_result"
    }
   ],
   "source": [
    "pd.DataFrame(X_50_50)"
   ]
  },
  {
   "cell_type": "code",
   "execution_count": 144,
   "metadata": {},
   "outputs": [],
   "source": [
    "X_train, X_test, y_train, y_test = train_test_split(X_50_50, Y, test_size=0.15, random_state = 42)"
   ]
  },
  {
   "cell_type": "markdown",
   "metadata": {},
   "source": [
    "### PCA Dimensionality Reductioin\n",
    "- from 7500 features to 380\n",
    "- 90% of the information remains"
   ]
  },
  {
   "cell_type": "code",
   "execution_count": 145,
   "metadata": {},
   "outputs": [],
   "source": [
    "pca = PCA()\n",
    "pca.fit(X_train)\n",
    "cumsum = np.cumsum(pca.explained_variance_ratio_)"
   ]
  },
  {
   "cell_type": "code",
   "execution_count": 146,
   "metadata": {},
   "outputs": [
    {
     "data": {
      "text/plain": [
       "[<matplotlib.lines.Line2D at 0x1f65f09fe80>]"
      ]
     },
     "execution_count": 146,
     "metadata": {},
     "output_type": "execute_result"
    },
    {
     "data": {
      "image/png": "[encoded data removed]",
      "text/plain": [
       "<Figure size 432x288 with 1 Axes>"
      ]
     },
     "metadata": {
      "needs_background": "light"
     },
     "output_type": "display_data"
    }
   ],
   "source": [
    "# the elbow is around 0.9 explaind varince, so this is a good point to use.\n",
    "plt.plot(cumsum)"
   ]
  },
  {
   "cell_type": "code",
   "execution_count": 147,
   "metadata": {},
   "outputs": [],
   "source": [
    "pca = PCA(n_components= 0.9)\n",
    "pca.fit(X_train)\n",
    "X_train_pca = pca.transform(X_train)\n",
    "X_test_pca = pca.transform(X_test)"
   ]
  },
  {
   "cell_type": "code",
   "execution_count": 155,
   "metadata": {},
   "outputs": [
    {
     "name": "stdout",
     "output_type": "stream",
     "text": [
      "from 7500 features we have now only 380 features which remains 0.9 from the information (variance) of the original data!\n"
     ]
    }
   ],
   "source": [
    "print(\"from 7500 features we have now only \" + str(len(X_train_pca[0])) + \" features which remains 0.9 from the information (variance) of the original data!\")"
   ]
  },
  {
   "cell_type": "code",
   "execution_count": 157,
   "metadata": {
    "scrolled": true
   },
   "outputs": [
    {
     "name": "stdout",
     "output_type": "stream",
     "text": [
      "[14:26:42] WARNING: C:/Users/Administrator/workspace/xgboost-win64_release_1.4.0/src/learner.cc:573: \n",
      "Parameters: { \"eval_matric\" } might not be used.\n",
      "\n",
      "  This may not be accurate due to some parameters are only used in language bindings but\n",
      "  passed down to XGBoost core.  Or some parameters are not used but slip through this\n",
      "  verification. Please open an issue if you find above cases.\n",
      "\n",
      "\n",
      "[14:26:43] WARNING: C:/Users/Administrator/workspace/xgboost-win64_release_1.4.0/src/learner.cc:1095: Starting in XGBoost 1.3.0, the default evaluation metric used with the objective 'binary:logistic' was changed from 'error' to 'logloss'. Explicitly set eval_metric if you'd like to restore the old behavior.\n",
      "[14:27:39] WARNING: C:/Users/Administrator/workspace/xgboost-win64_release_1.4.0/src/learner.cc:573: \n",
      "Parameters: { \"eval_matric\" } might not be used.\n",
      "\n",
      "  This may not be accurate due to some parameters are only used in language bindings but\n",
      "  passed down to XGBoost core.  Or some parameters are not used but slip through this\n",
      "  verification. Please open an issue if you find above cases.\n",
      "\n",
      "\n",
      "[14:27:40] WARNING: C:/Users/Administrator/workspace/xgboost-win64_release_1.4.0/src/learner.cc:1095: Starting in XGBoost 1.3.0, the default evaluation metric used with the objective 'binary:logistic' was changed from 'error' to 'logloss'. Explicitly set eval_metric if you'd like to restore the old behavior.\n",
      "[14:28:35] WARNING: C:/Users/Administrator/workspace/xgboost-win64_release_1.4.0/src/learner.cc:573: \n",
      "Parameters: { \"eval_matric\" } might not be used.\n",
      "\n",
      "  This may not be accurate due to some parameters are only used in language bindings but\n",
      "  passed down to XGBoost core.  Or some parameters are not used but slip through this\n",
      "  verification. Please open an issue if you find above cases.\n",
      "\n",
      "\n",
      "[14:28:36] WARNING: C:/Users/Administrator/workspace/xgboost-win64_release_1.4.0/src/learner.cc:1095: Starting in XGBoost 1.3.0, the default evaluation metric used with the objective 'binary:logistic' was changed from 'error' to 'logloss'. Explicitly set eval_metric if you'd like to restore the old behavior.\n",
      "\n",
      " Time taken: 0 hours 2 minutes and 50.43 seconds.\n",
      "CV mean accuracy score is: 0.6238118649035173\n"
     ]
    },
    {
     "data": {
      "text/plain": [
       "0.6238118649035173"
      ]
     },
     "execution_count": 157,
     "metadata": {},
     "output_type": "execute_result"
    }
   ],
   "source": [
    "xgb_pca = xgboost.XGBClassifier(use_label_encoder=False, eval_matric = 'mlogloss')\n",
    "\n",
    "cv_model_score(xgb_pca)"
   ]
  },
  {
   "cell_type": "code",
   "execution_count": 159,
   "metadata": {},
   "outputs": [
    {
     "data": {
      "text/plain": [
       "380"
      ]
     },
     "execution_count": 159,
     "metadata": {},
     "output_type": "execute_result"
    }
   ],
   "source": [
    "len(X_test_pca[0])"
   ]
  },
  {
   "cell_type": "code",
   "execution_count": 160,
   "metadata": {},
   "outputs": [
    {
     "data": {
      "text/html": [
       "<div>\n",
       "<style scoped>\n",
       "    .dataframe tbody tr th:only-of-type {\n",
       "        vertical-align: middle;\n",
       "    }\n",
       "\n",
       "    .dataframe tbody tr th {\n",
       "        vertical-align: top;\n",
       "    }\n",
       "\n",
       "    .dataframe thead th {\n",
       "        text-align: right;\n",
       "    }\n",
       "</style>\n",
       "<table border=\"1\" class=\"dataframe\">\n",
       "  <thead>\n",
       "    <tr style=\"text-align: right;\">\n",
       "      <th></th>\n",
       "      <th>x1</th>\n",
       "      <th>x2</th>\n",
       "      <th>x3</th>\n",
       "      <th>x4</th>\n",
       "      <th>label</th>\n",
       "    </tr>\n",
       "  </thead>\n",
       "  <tbody>\n",
       "    <tr>\n",
       "      <th>11357</th>\n",
       "      <td>0.40</td>\n",
       "      <td>0.680000</td>\n",
       "      <td>0.41</td>\n",
       "      <td>0.440541</td>\n",
       "      <td>1</td>\n",
       "    </tr>\n",
       "    <tr>\n",
       "      <th>19401</th>\n",
       "      <td>0.52</td>\n",
       "      <td>0.546667</td>\n",
       "      <td>0.55</td>\n",
       "      <td>0.519661</td>\n",
       "      <td>0</td>\n",
       "    </tr>\n",
       "    <tr>\n",
       "      <th>13668</th>\n",
       "      <td>0.43</td>\n",
       "      <td>0.426667</td>\n",
       "      <td>0.49</td>\n",
       "      <td>0.426953</td>\n",
       "      <td>0</td>\n",
       "    </tr>\n",
       "    <tr>\n",
       "      <th>14645</th>\n",
       "      <td>0.49</td>\n",
       "      <td>0.426667</td>\n",
       "      <td>0.49</td>\n",
       "      <td>0.550027</td>\n",
       "      <td>1</td>\n",
       "    </tr>\n",
       "    <tr>\n",
       "      <th>15706</th>\n",
       "      <td>0.47</td>\n",
       "      <td>0.653333</td>\n",
       "      <td>0.52</td>\n",
       "      <td>0.502458</td>\n",
       "      <td>0</td>\n",
       "    </tr>\n",
       "    <tr>\n",
       "      <th>...</th>\n",
       "      <td>...</td>\n",
       "      <td>...</td>\n",
       "      <td>...</td>\n",
       "      <td>...</td>\n",
       "      <td>...</td>\n",
       "    </tr>\n",
       "    <tr>\n",
       "      <th>21575</th>\n",
       "      <td>0.51</td>\n",
       "      <td>0.413333</td>\n",
       "      <td>0.59</td>\n",
       "      <td>0.611326</td>\n",
       "      <td>0</td>\n",
       "    </tr>\n",
       "    <tr>\n",
       "      <th>5390</th>\n",
       "      <td>0.58</td>\n",
       "      <td>0.573333</td>\n",
       "      <td>0.50</td>\n",
       "      <td>0.485669</td>\n",
       "      <td>0</td>\n",
       "    </tr>\n",
       "    <tr>\n",
       "      <th>860</th>\n",
       "      <td>0.31</td>\n",
       "      <td>0.560000</td>\n",
       "      <td>0.33</td>\n",
       "      <td>0.378233</td>\n",
       "      <td>1</td>\n",
       "    </tr>\n",
       "    <tr>\n",
       "      <th>15795</th>\n",
       "      <td>0.51</td>\n",
       "      <td>0.586667</td>\n",
       "      <td>0.47</td>\n",
       "      <td>0.579007</td>\n",
       "      <td>0</td>\n",
       "    </tr>\n",
       "    <tr>\n",
       "      <th>23654</th>\n",
       "      <td>0.51</td>\n",
       "      <td>0.333333</td>\n",
       "      <td>0.57</td>\n",
       "      <td>0.459538</td>\n",
       "      <td>1</td>\n",
       "    </tr>\n",
       "  </tbody>\n",
       "</table>\n",
       "<p>6250 rows × 5 columns</p>\n",
       "</div>"
      ],
      "text/plain": [
       "         x1        x2    x3        x4  label\n",
       "11357  0.40  0.680000  0.41  0.440541      1\n",
       "19401  0.52  0.546667  0.55  0.519661      0\n",
       "13668  0.43  0.426667  0.49  0.426953      0\n",
       "14645  0.49  0.426667  0.49  0.550027      1\n",
       "15706  0.47  0.653333  0.52  0.502458      0\n",
       "...     ...       ...   ...       ...    ...\n",
       "21575  0.51  0.413333  0.59  0.611326      0\n",
       "5390   0.58  0.573333  0.50  0.485669      0\n",
       "860    0.31  0.560000  0.33  0.378233      1\n",
       "15795  0.51  0.586667  0.47  0.579007      0\n",
       "23654  0.51  0.333333  0.57  0.459538      1\n",
       "\n",
       "[6250 rows x 5 columns]"
      ]
     },
     "execution_count": 160,
     "metadata": {},
     "output_type": "execute_result"
    }
   ],
   "source": [
    "X_step1 = X_train_pca[:15000]\n",
    "X_step2 = X_train_pca[15000:]\n",
    "\n",
    "Y_step1 = y_train[:15000]\n",
    "Y_step2 = y_train[15000:]\n",
    "\n",
    "ada_RFC.fit(X_step1, Y_step1)\n",
    "knn = KNeighborsClassifier(n_neighbors=best_k).fit(X_step1, Y_step1)\n",
    "RFC_pca.fit(X_step1, Y_step1)\n",
    "xgb = xgboost.XGBClassifier(use_label_encoder=False, eta=best_eta, eval_metric='mlogloss').fit(X_step1, Y_step1)\n",
    "\n",
    "ada_RFC_predict_prob = ada_RFC.predict_proba(X_step2)\n",
    "knn_predict_prob = knn.predict_proba(X_step2)\n",
    "RFC_predict_prob = RFC_pca.predict_proba(X_step2)\n",
    "xgb_predict_prob = xgb.predict_proba(X_step2)\n",
    "\n",
    "x1 = np.array([i[0] for i in ada_RFC_predict_prob])\n",
    "x2 = np.array([i[0] for i in knn_predict_prob])\n",
    "x3 = np.array([i[0] for i in RFC_predict_prob])\n",
    "x4 = np.array([i[0] for i in xgb_predict_prob])\n",
    "\n",
    "predicts_prob = pd.DataFrame({'x1': x1,'x2': x2,'x3': x3,'x4': x4, 'label': Y_step2})\n",
    "X_step2_train = predicts_prob.drop(columns=['label'])\n",
    "Y_step2_train = predicts_prob['label']\n",
    "predicts_prob"
   ]
  },
  {
   "cell_type": "markdown",
   "metadata": {},
   "source": [
    "### test with 2 of the Best greyed images models:"
   ]
  },
  {
   "cell_type": "code",
   "execution_count": 161,
   "metadata": {},
   "outputs": [
    {
     "name": "stdout",
     "output_type": "stream",
     "text": [
      "\n",
      " Time taken: 0 hours 0 minutes and 0.14 seconds.\n",
      "CV mean accuracy score is: 0.6609612624392264\n"
     ]
    },
    {
     "data": {
      "text/plain": [
       "0.6609612624392264"
      ]
     },
     "execution_count": 161,
     "metadata": {},
     "output_type": "execute_result"
    }
   ],
   "source": [
    "stacking_svm = LinearSVC(max_iter=30000)\n",
    "cv_model_score(stacking_svm, X_step2_train, Y_step2_train)"
   ]
  },
  {
   "cell_type": "code",
   "execution_count": 162,
   "metadata": {},
   "outputs": [
    {
     "name": "stdout",
     "output_type": "stream",
     "text": [
      "\n",
      " Time taken: 0 hours 0 minutes and 0.15 seconds.\n",
      "CV mean accuracy score is: 0.660641288018751\n"
     ]
    },
    {
     "data": {
      "text/plain": [
       "0.660641288018751"
      ]
     },
     "execution_count": 162,
     "metadata": {},
     "output_type": "execute_result"
    }
   ],
   "source": [
    "stacking_log_reg = LogisticRegression(max_iter=20000)\n",
    "cv_model_score(stacking_log_reg, X_step2_train, Y_step2_train)"
   ]
  },
  {
   "cell_type": "code",
   "execution_count": null,
   "metadata": {},
   "outputs": [],
   "source": []
  },
  {
   "cell_type": "markdown",
   "metadata": {},
   "source": [
    "# linear SVC stacking with probabilities is my best model (at greyed images). I will test it with the data test of colored images:"
   ]
  },
  {
   "cell_type": "code",
   "execution_count": 163,
   "metadata": {},
   "outputs": [
    {
     "data": {
      "text/plain": [
       "0.6586666666666666"
      ]
     },
     "execution_count": 163,
     "metadata": {},
     "output_type": "execute_result"
    }
   ],
   "source": [
    "# fit the final model\n",
    "\n",
    "stacking_svm = LinearSVC(max_iter=30000)\n",
    "stacking_svm.fit(X_step2_train, Y_step2_train)\n",
    "\n",
    "# prepare the final test set\n",
    "\n",
    "ada_RFC_predict_prob = ada_RFC.predict_proba(X_test_pca)\n",
    "knn_predict_prob = knn.predict_proba(X_test_pca)\n",
    "RFC_predict_prob = RFC_pca.predict_proba(X_test_pca)\n",
    "xgb_predict_prob = xgb.predict_proba(X_test_pca)\n",
    "\n",
    "x1 = np.array([i[0] for i in ada_RFC_predict_prob])\n",
    "x2 = np.array([i[0] for i in knn_predict_prob])\n",
    "x3 = np.array([i[0] for i in RFC_predict_prob])\n",
    "x4 = np.array([i[0] for i in xgb_predict_prob])\n",
    "\n",
    "X_test_predicts_prob = pd.DataFrame({'x1': x1,'x2': x2,'x3': x3,'x4': x4})\n",
    "\n",
    "y_predict = stacking_svm.predict(X_test_predicts_prob)\n",
    "metrics.accuracy_score(y_predict, y_test)"
   ]
  },
  {
   "cell_type": "code",
   "execution_count": 165,
   "metadata": {},
   "outputs": [
    {
     "data": {
      "image/png": "[encoded data removed]",
      "text/plain": [
       "<Figure size 648x648 with 2 Axes>"
      ]
     },
     "metadata": {
      "needs_background": "light"
     },
     "output_type": "display_data"
    }
   ],
   "source": [
    "y_pred_series = pd.Series(y_predict, index = y_test.index)\n",
    "\n",
    "cm = confusion_matrix(y_test, y_pred_series)\n",
    "plt.figure(figsize=(9,9))\n",
    "plt.imshow(cm, interpolation='nearest', cmap='Oranges')\n",
    "plt.title('Confusion matrix - 0.66 score', size = 15)\n",
    "plt.colorbar()\n",
    "tick_marks = np.arange(2)\n",
    "plt.xticks(tick_marks, ['dog', 'cat'], rotation=45, size = 20)\n",
    "plt.yticks(tick_marks, ['dog', 'cat'], size = 20)\n",
    "plt.tight_layout()\n",
    "plt.ylabel('Actual label', size = 15)\n",
    "plt.xlabel('Predicted label', size = 15)\n",
    "width, height = cm.shape\n",
    "for x in range(width):\n",
    "    for y in range(height):\n",
    "        plt.annotate(str(cm[x][y]), xy=(y, x), \n",
    "        horizontalalignment='center',\n",
    "        verticalalignment='center')"
   ]
  },
  {
   "cell_type": "markdown",
   "metadata": {},
   "source": [
    "# same best model with PCA of 90%, has score of 0.65 in greyed images and score of 0.66 in colored images.\n",
    "### in my opinion, this improvement is not worth 90 features more. but it depends on the target of the models and its resurces."
   ]
  }
 ],
 "metadata": {
  "kernelspec": {
   "display_name": "Python 3",
   "language": "python",
   "name": "python3"
  },
  "language_info": {
   "codemirror_mode": {
    "name": "ipython",
    "version": 3
   },
   "file_extension": ".py",
   "mimetype": "text/x-python",
   "name": "python",
   "nbconvert_exporter": "python",
   "pygments_lexer": "ipython3",
   "version": "3.8.3"
  }
 },
 "nbformat": 4,
 "nbformat_minor": 4
}
